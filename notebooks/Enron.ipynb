{
 "cells": [
  {
   "cell_type": "markdown",
   "source": [
    "# Extract addresses from the Enron dataset\n",
    "\n",
    "The [Enron Email Dataset](https://www.cs.cmu.edu/~enron/) was collected and prepared by the CALO Project (A Cognitive Assistant that Learns and Organizes).\n",
    "It contains data from about 150 users, mostly senior management of Enron, organized into folders.\n",
    "The corpus contains a total of about 0.5M messages. This data was originally made public, and posted to the web, by the Federal Energy Regulatory Commission during its investigation.\n",
    "\n",
    "This code uses simple regex to extract possible mailing addresses from the Enron dataset, for further inspection and manual tagging of addresses.\n",
    "\n",
    "While the simple regex approach would probably have false detection and missed addresses, it can help curate a labeled dataset of texts with and without addresses."
   ],
   "metadata": {
    "collapsed": false
   }
  },
  {
   "cell_type": "code",
   "execution_count": 4,
   "id": "be5213e8",
   "metadata": {},
   "outputs": [],
   "source": [
    "import pandas as pd\n",
    "import re\n",
    "import glob\n",
    "from typing import Tuple, Iterator, Dict\n",
    "import tqdm"
   ]
  },
  {
   "cell_type": "markdown",
   "source": [
    "Initial setup and detection logic"
   ],
   "metadata": {
    "collapsed": false
   }
  },
  {
   "cell_type": "code",
   "execution_count": 5,
   "id": "bbfdf670",
   "metadata": {},
   "outputs": [
    {
     "data": {
      "text/plain": "['wall street',\n 'st. mary',\n 'st. peter',\n 'st. john',\n 'road conditions',\n 'court to',\n '@',\n 'federal court',\n 'court of appeals',\n 'supreme court',\n 'st. lucia',\n 'st.  lucia',\n 'st. maarten',\n 'st. regis',\n 'st. clair',\n 'st. louis',\n 'st. thomas',\n 'road runner',\n 'road show',\n 'to route',\n 'claims court',\n 'a st\\\\.',\n 'a street',\n 'a blvd',\n 'a boulevard',\n 'a rd\\\\.',\n 'a road',\n 'a ave',\n 'a avenue',\n 'a lane',\n 'a apt\\\\.',\n 'a apartment',\n 'a circle',\n 'a route',\n 'a ci\\\\.',\n 'a ct\\\\.',\n 'a court',\n 'a pkwy',\n 'a parkway',\n 'a freeway',\n 'a highway',\n 'a terrace',\n 'the st\\\\.',\n 'the street',\n 'the blvd',\n 'the boulevard',\n 'the rd\\\\.',\n 'the road',\n 'the ave',\n 'the avenue',\n 'the lane',\n 'the apt\\\\.',\n 'the apartment',\n 'the circle',\n 'the route',\n 'the ci\\\\.',\n 'the ct\\\\.',\n 'the court',\n 'the pkwy',\n 'the parkway',\n 'the freeway',\n 'the highway',\n 'the terrace']"
     },
     "execution_count": 5,
     "metadata": {},
     "output_type": "execute_result"
    }
   ],
   "source": [
    "enron_path = \"../data/maildir/\"\n",
    "email_regex = r\"^\\S+@\\S+\\.\\S+$\"\n",
    "\n",
    "street_hints = [\"st\\.\",\"street\",\"blvd\",\"boulevard\",\"rd\\.\",\"road\",\"ave\",\"avenue\",\"lane\",\"apt\\.\",\"apartment\",\"circle\",\"route\",\"ci\\.\",\"ct\\.\",\"court\",\"pkwy\",\"parkway\",\"freeway\",\"highway\",\"terrace\"]\n",
    "\n",
    "street_regex = f\"(?:^|(?<= ))({'|'.join(street_hints)})(?:(?=[ ?.,!])|$)\"\n",
    "\n",
    "# phrases used to ignore specific cases where the regex detected non-address matches\n",
    "street_phrases_to_ignore = [\"wall street\",\"st. mary\",\"st. peter\", \"st. john\",\"road conditions\",\n",
    "                            \"court to\",\"@\",\"federal court\",\"court of appeals\",\"supreme court\",\n",
    "                            \"st. lucia\",\"st.  lucia\",\"st. maarten\",\"st. regis\",\"st. clair\",\n",
    "                            \"st. louis\",\"st. thomas\",\"road runner\",\"road show\",\"to route\",\"claims court\"]\n",
    "street_phrases_to_ignore.extend([f\"a {word}\" for word in street_hints]) # ignore \"a street\" but keep \"street\"\n",
    "street_phrases_to_ignore.extend([f\"the {word}\" for word in street_hints]) #ignore \"the street\" but keep \"street\"\n",
    "street_phrases_to_ignore"
   ]
  },
  {
   "cell_type": "markdown",
   "source": [
    "Function for traversing the dataset"
   ],
   "metadata": {
    "collapsed": false
   }
  },
  {
   "cell_type": "code",
   "execution_count": 8,
   "id": "fb46e36d",
   "metadata": {},
   "outputs": [],
   "source": [
    "def glob_enron(path: str,\n",
    "               pattern: str,\n",
    "               a:int=5,\n",
    "               b:int=5,\n",
    "               phrases_to_ignore:Tuple[str]=(),\n",
    "               verbose:bool=False) -> Iterator[Dict]:\n",
    "    \"\"\"\n",
    "    Traverses the Enron dataset and extract subsets of texts with possible addresses\n",
    "    :param path: Path to the enron root folder\n",
    "    :param pattern: The regex pattern to look for\n",
    "    :param a: Number of lines before the pattern match\n",
    "    :param b: Number of lines after the pattern match\n",
    "    :param phrases_to_ignore: List of phrases to scan for each match, and ignore the match if found\n",
    "    :param verbose: True if the function should print to console\n",
    "    :return: Generator\n",
    "    \"\"\"\n",
    "    \n",
    "    for file in tqdm.tqdm(glob.glob(f\"{path}/**/[0-9]_\",recursive=True)):\n",
    "        with open(file) as f:\n",
    "            lines = f.readlines()\n",
    "            for i, line in enumerate(lines):\n",
    "                for match in re.finditer(pattern, line, flags=re.I):\n",
    "                    # adjust a and b if this match is in the first or last rows\n",
    "                    from_line = i-a\n",
    "                    to_line = i+b\n",
    "                    if from_line < 0:\n",
    "                        from_line = 0\n",
    "                    if to_line >= len(lines):\n",
    "                        to_line = len(lines) - 1\n",
    "                    text = \"\".join(lines[from_line : to_line]).replace(\"=09\",\" \").replace(\"=20\",\" \").replace(\"=\\n\",\"\")\n",
    "                    found_phrases = [phrase for phrase in phrases_to_ignore if phrase in lines[i].lower()]\n",
    "                    to_remove = len(found_phrases) > 0\n",
    "                    if not to_remove:\n",
    "                        if verbose:\n",
    "                            print(f\"Found on file file:///{file} on line {i+1} : {match.group()}\") \n",
    "                            print(text)\n",
    "                            print(f\"from:{from_line},to:{to_line}\")\n",
    "                            print(\"---------------------\\n\")\n",
    "                            \n",
    "                        yield {\"file\":file, \"match\": match.group(), \"text\":text}\n",
    "                    else:\n",
    "                        if verbose:\n",
    "                            print(f\"Match {match.group()} removed due to phrases {found_phrases}\")\n"
   ]
  },
  {
   "cell_type": "code",
   "execution_count": 9,
   "id": "98686fbe",
   "metadata": {},
   "outputs": [
    {
     "name": "stderr",
     "output_type": "stream",
     "text": [
      "  0%|          | 80/20723 [00:00<03:04, 111.74it/s]\n"
     ]
    },
    {
     "ename": "KeyboardInterrupt",
     "evalue": "",
     "output_type": "error",
     "traceback": [
      "\u001B[1;31m---------------------------------------------------------------------------\u001B[0m",
      "\u001B[1;31mKeyboardInterrupt\u001B[0m                         Traceback (most recent call last)",
      "\u001B[1;32m~\\AppData\\Local\\Temp/ipykernel_16448/3689294384.py\u001B[0m in \u001B[0;36m<module>\u001B[1;34m\u001B[0m\n\u001B[0;32m      1\u001B[0m \u001B[0maddresses\u001B[0m \u001B[1;33m=\u001B[0m \u001B[1;33m[\u001B[0m\u001B[1;33m]\u001B[0m\u001B[1;33m\u001B[0m\u001B[1;33m\u001B[0m\u001B[0m\n\u001B[1;32m----> 2\u001B[1;33m for match in glob_enron(enron_path,\n\u001B[0m\u001B[0;32m      3\u001B[0m                         \u001B[0mstreet_regex\u001B[0m\u001B[1;33m,\u001B[0m\u001B[1;33m\u001B[0m\u001B[1;33m\u001B[0m\u001B[0m\n\u001B[0;32m      4\u001B[0m                         \u001B[0mphrases_to_ignore\u001B[0m\u001B[1;33m=\u001B[0m\u001B[0mstreet_phrases_to_ignore\u001B[0m\u001B[1;33m,\u001B[0m\u001B[1;33m\u001B[0m\u001B[1;33m\u001B[0m\u001B[0m\n\u001B[0;32m      5\u001B[0m                         verbose=False):\n",
      "\u001B[1;32m~\\AppData\\Local\\Temp/ipykernel_16448/1425407849.py\u001B[0m in \u001B[0;36mglob_enron\u001B[1;34m(path, pattern, a, b, phrases_to_ignore, verbose)\u001B[0m\n\u001B[0;32m     17\u001B[0m \u001B[1;33m\u001B[0m\u001B[0m\n\u001B[0;32m     18\u001B[0m     \u001B[1;32mfor\u001B[0m \u001B[0mfile\u001B[0m \u001B[1;32min\u001B[0m \u001B[0mtqdm\u001B[0m\u001B[1;33m.\u001B[0m\u001B[0mtqdm\u001B[0m\u001B[1;33m(\u001B[0m\u001B[0mglob\u001B[0m\u001B[1;33m.\u001B[0m\u001B[0mglob\u001B[0m\u001B[1;33m(\u001B[0m\u001B[1;34mf\"{path}/**/[0-9]_\"\u001B[0m\u001B[1;33m,\u001B[0m\u001B[0mrecursive\u001B[0m\u001B[1;33m=\u001B[0m\u001B[1;32mTrue\u001B[0m\u001B[1;33m)\u001B[0m\u001B[1;33m)\u001B[0m\u001B[1;33m:\u001B[0m\u001B[1;33m\u001B[0m\u001B[1;33m\u001B[0m\u001B[0m\n\u001B[1;32m---> 19\u001B[1;33m         \u001B[1;32mwith\u001B[0m \u001B[0mopen\u001B[0m\u001B[1;33m(\u001B[0m\u001B[0mfile\u001B[0m\u001B[1;33m)\u001B[0m \u001B[1;32mas\u001B[0m \u001B[0mf\u001B[0m\u001B[1;33m:\u001B[0m\u001B[1;33m\u001B[0m\u001B[1;33m\u001B[0m\u001B[0m\n\u001B[0m\u001B[0;32m     20\u001B[0m             \u001B[0mlines\u001B[0m \u001B[1;33m=\u001B[0m \u001B[0mf\u001B[0m\u001B[1;33m.\u001B[0m\u001B[0mreadlines\u001B[0m\u001B[1;33m(\u001B[0m\u001B[1;33m)\u001B[0m\u001B[1;33m\u001B[0m\u001B[1;33m\u001B[0m\u001B[0m\n\u001B[0;32m     21\u001B[0m             \u001B[1;32mfor\u001B[0m \u001B[0mi\u001B[0m\u001B[1;33m,\u001B[0m \u001B[0mline\u001B[0m \u001B[1;32min\u001B[0m \u001B[0menumerate\u001B[0m\u001B[1;33m(\u001B[0m\u001B[0mlines\u001B[0m\u001B[1;33m)\u001B[0m\u001B[1;33m:\u001B[0m\u001B[1;33m\u001B[0m\u001B[1;33m\u001B[0m\u001B[0m\n",
      "\u001B[1;32m~\\.conda\\envs\\address\\lib\\_bootlocale.py\u001B[0m in \u001B[0;36mgetpreferredencoding\u001B[1;34m(do_setlocale)\u001B[0m\n\u001B[0;32m      9\u001B[0m \u001B[1;33m\u001B[0m\u001B[0m\n\u001B[0;32m     10\u001B[0m \u001B[1;32mif\u001B[0m \u001B[0msys\u001B[0m\u001B[1;33m.\u001B[0m\u001B[0mplatform\u001B[0m\u001B[1;33m.\u001B[0m\u001B[0mstartswith\u001B[0m\u001B[1;33m(\u001B[0m\u001B[1;34m\"win\"\u001B[0m\u001B[1;33m)\u001B[0m\u001B[1;33m:\u001B[0m\u001B[1;33m\u001B[0m\u001B[1;33m\u001B[0m\u001B[0m\n\u001B[1;32m---> 11\u001B[1;33m     \u001B[1;32mdef\u001B[0m \u001B[0mgetpreferredencoding\u001B[0m\u001B[1;33m(\u001B[0m\u001B[0mdo_setlocale\u001B[0m\u001B[1;33m=\u001B[0m\u001B[1;32mTrue\u001B[0m\u001B[1;33m)\u001B[0m\u001B[1;33m:\u001B[0m\u001B[1;33m\u001B[0m\u001B[1;33m\u001B[0m\u001B[0m\n\u001B[0m\u001B[0;32m     12\u001B[0m         \u001B[1;32mif\u001B[0m \u001B[0msys\u001B[0m\u001B[1;33m.\u001B[0m\u001B[0mflags\u001B[0m\u001B[1;33m.\u001B[0m\u001B[0mutf8_mode\u001B[0m\u001B[1;33m:\u001B[0m\u001B[1;33m\u001B[0m\u001B[1;33m\u001B[0m\u001B[0m\n\u001B[0;32m     13\u001B[0m             \u001B[1;32mreturn\u001B[0m \u001B[1;34m'UTF-8'\u001B[0m\u001B[1;33m\u001B[0m\u001B[1;33m\u001B[0m\u001B[0m\n",
      "\u001B[1;31mKeyboardInterrupt\u001B[0m: "
     ]
    }
   ],
   "source": [
    "addresses = []\n",
    "for match in glob_enron(enron_path,\n",
    "                        street_regex, \n",
    "                        phrases_to_ignore=street_phrases_to_ignore,\n",
    "                        verbose=False):\n",
    "    addresses.append(match)\n",
    "print(f\"Found {len(addresses)} matching records\")"
   ]
  },
  {
   "cell_type": "code",
   "execution_count": null,
   "id": "f04c6f0a",
   "metadata": {},
   "outputs": [],
   "source": [
    "to_save = list(set([record['text'] for record in addresses]))\n",
    "print(f\"Saving {len(to_save)} unique records\")\n",
    "\n",
    "for i, address_data in enumerate(to_save):\n",
    "    with open(f\"../data/interim/enron_sentences/{i}.txt\",\"w\") as f:\n",
    "        f.writelines(address_data)"
   ]
  },
  {
   "cell_type": "markdown",
   "source": [
    "### <<<< Annotated records manually with Doccano >>>>"
   ],
   "metadata": {
    "collapsed": false
   }
  },
  {
   "cell_type": "code",
   "execution_count": 10,
   "id": "20208bf3",
   "metadata": {},
   "outputs": [
    {
     "data": {
      "text/plain": "                                                  data              label\nid                                                                       \n759  the spread calculations referenced were tied t...  [[232, 265, GPE]]\n215  \\nConsorcio thereafter appealed through a proc...                 []\n349  \\n\\nAngela Papesch\\nHead of Asia-Pacific Offic...  [[104, 157, GPE]]\n167  Hi Phillip,\\n \\nThanks for your winning bid on...  [[397, 441, GPE]]\n262  > should be removable to federal court.\\n>\\n> ...                 []",
      "text/html": "<div>\n<style scoped>\n    .dataframe tbody tr th:only-of-type {\n        vertical-align: middle;\n    }\n\n    .dataframe tbody tr th {\n        vertical-align: top;\n    }\n\n    .dataframe thead th {\n        text-align: right;\n    }\n</style>\n<table border=\"1\" class=\"dataframe\">\n  <thead>\n    <tr style=\"text-align: right;\">\n      <th></th>\n      <th>data</th>\n      <th>label</th>\n    </tr>\n    <tr>\n      <th>id</th>\n      <th></th>\n      <th></th>\n    </tr>\n  </thead>\n  <tbody>\n    <tr>\n      <th>759</th>\n      <td>the spread calculations referenced were tied t...</td>\n      <td>[[232, 265, GPE]]</td>\n    </tr>\n    <tr>\n      <th>215</th>\n      <td>\\nConsorcio thereafter appealed through a proc...</td>\n      <td>[]</td>\n    </tr>\n    <tr>\n      <th>349</th>\n      <td>\\n\\nAngela Papesch\\nHead of Asia-Pacific Offic...</td>\n      <td>[[104, 157, GPE]]</td>\n    </tr>\n    <tr>\n      <th>167</th>\n      <td>Hi Phillip,\\n \\nThanks for your winning bid on...</td>\n      <td>[[397, 441, GPE]]</td>\n    </tr>\n    <tr>\n      <th>262</th>\n      <td>&gt; should be removable to federal court.\\n&gt;\\n&gt; ...</td>\n      <td>[]</td>\n    </tr>\n  </tbody>\n</table>\n</div>"
     },
     "execution_count": 10,
     "metadata": {},
     "output_type": "execute_result"
    }
   ],
   "source": [
    "enron_dataset = \"../data/processed/enron/dataset.jsonl\"\n",
    "\n",
    "enron_df = pd.read_json(path_or_buf=enron_dataset, lines=True)\n",
    "enron_df = enron_df.sample(frac=1).set_index(\"id\")\n",
    "enron_df = enron_df.drop_duplicates(subset='data', keep=\"last\") #shuffle data and remove duplicates\n",
    "enron_df.head()"
   ]
  },
  {
   "cell_type": "markdown",
   "source": [
    "Dataset size (with and without labels)"
   ],
   "metadata": {
    "collapsed": false
   }
  },
  {
   "cell_type": "code",
   "execution_count": 11,
   "outputs": [
    {
     "name": "stdout",
     "output_type": "stream",
     "text": [
      "Dataset size: 654\n",
      "Len of samples with no labels: 345, number of samples with labels: 309\n"
     ]
    }
   ],
   "source": [
    "print(f\"Dataset size: {len(enron_df)}\")\n",
    "no_labels_df = enron_df[enron_df['label'].apply(len)==0]\n",
    "labels_df = enron_df[enron_df['label'].apply(len)>0]\n",
    "print(f\"Len of samples with no labels: {len(no_labels_df)}, number of samples with labels: {len(labels_df)}\")"
   ],
   "metadata": {
    "collapsed": false,
    "pycharm": {
     "name": "#%%\n"
    }
   }
  },
  {
   "cell_type": "code",
   "execution_count": 12,
   "outputs": [
    {
     "data": {
      "text/plain": "                                                  data              label  \\\nid                                                                          \n759  the spread calculations referenced were tied t...  [[232, 265, GPE]]   \n215  \\nConsorcio thereafter appealed through a proc...                 []   \n349  \\n\\nAngela Papesch\\nHead of Asia-Pacific Offic...  [[104, 157, GPE]]   \n167  Hi Phillip,\\n \\nThanks for your winning bid on...  [[397, 441, GPE]]   \n262  > should be removable to federal court.\\n>\\n> ...                 []   \n\n                                                values  \nid                                                      \n759               [1400 Smith St.\\nHouston, TX  77002]  \n215                                                 []  \n349  [1 Robinson Road - #18-00 AIA Tower - Singapor...  \n167    [141 McCallie Lane\\nLookout Mountain, GA 30750]  \n262                                                 []  ",
      "text/html": "<div>\n<style scoped>\n    .dataframe tbody tr th:only-of-type {\n        vertical-align: middle;\n    }\n\n    .dataframe tbody tr th {\n        vertical-align: top;\n    }\n\n    .dataframe thead th {\n        text-align: right;\n    }\n</style>\n<table border=\"1\" class=\"dataframe\">\n  <thead>\n    <tr style=\"text-align: right;\">\n      <th></th>\n      <th>data</th>\n      <th>label</th>\n      <th>values</th>\n    </tr>\n    <tr>\n      <th>id</th>\n      <th></th>\n      <th></th>\n      <th></th>\n    </tr>\n  </thead>\n  <tbody>\n    <tr>\n      <th>759</th>\n      <td>the spread calculations referenced were tied t...</td>\n      <td>[[232, 265, GPE]]</td>\n      <td>[1400 Smith St.\\nHouston, TX  77002]</td>\n    </tr>\n    <tr>\n      <th>215</th>\n      <td>\\nConsorcio thereafter appealed through a proc...</td>\n      <td>[]</td>\n      <td>[]</td>\n    </tr>\n    <tr>\n      <th>349</th>\n      <td>\\n\\nAngela Papesch\\nHead of Asia-Pacific Offic...</td>\n      <td>[[104, 157, GPE]]</td>\n      <td>[1 Robinson Road - #18-00 AIA Tower - Singapor...</td>\n    </tr>\n    <tr>\n      <th>167</th>\n      <td>Hi Phillip,\\n \\nThanks for your winning bid on...</td>\n      <td>[[397, 441, GPE]]</td>\n      <td>[141 McCallie Lane\\nLookout Mountain, GA 30750]</td>\n    </tr>\n    <tr>\n      <th>262</th>\n      <td>&gt; should be removable to federal court.\\n&gt;\\n&gt; ...</td>\n      <td>[]</td>\n      <td>[]</td>\n    </tr>\n  </tbody>\n</table>\n</div>"
     },
     "execution_count": 12,
     "metadata": {},
     "output_type": "execute_result"
    }
   ],
   "source": [
    "def extract_value(text, labels):\n",
    "    extracted = []\n",
    "    for label in labels:\n",
    "        extracted.append(text[label[0]:label[1]])\n",
    "    return extracted\n",
    "\n",
    "enron_df['values'] = [extract_value(text=row.data,labels=row.label)\n",
    "    for row in enron_df.itertuples()]\n",
    "\n",
    "enron_df.head()"
   ],
   "metadata": {
    "collapsed": false,
    "pycharm": {
     "name": "#%%\n"
    }
   }
  },
  {
   "cell_type": "markdown",
   "source": [
    "All address values"
   ],
   "metadata": {
    "collapsed": false
   }
  },
  {
   "cell_type": "code",
   "execution_count": 13,
   "outputs": [
    {
     "data": {
      "text/plain": "['1400 Smith St.\\nHouston, TX  77002',\n '1 Robinson Road - #18-00 AIA Tower - Singapore 048542',\n '141 McCallie Lane\\nLookout Mountain, GA 30750',\n '285 Hamilton Avenue\\n      Palo Alto, CA 94301',\n '1400 Smith Street, EB3801a\\nHouston, TX  77002',\n '1400 Smith Street, EB 3888 \\nHouston, TX 77002-7361',\n '290 Washington Ave',\n '450 Miramonte Avenue\\nPalo Alto, CA 94306',\n '600 Fifth Avenue - 27th Floor\\nRockefeller Center\\nNew York, NY 10020',\n '5000 Dominion Blvd.\\nGlen Allen, Virginia 23060\\nInnsbrook 3rd Floor',\n 'Sixty State Park Road, Morro Bay',\n '5959 Topanga Canyon Blvd.  Suite 244\\nWoodland Hills, CA 91367',\n '424 Church Street, Suite 2800\\nNashville, TN  37219-2386',\n '370 17th Street, Suite 4240\\nDenver, CO  80202-1370',\n '550 15th Street, Denver',\n 'the corner of Michaux and West Cottage',\n '1907 Holcombe Blvd, 77030',\n '21st Street North',\n 'Vernon Blvd',\n 'Vernon Blvd',\n 'Braodway ',\n 'Broadway',\n 'Vernon Blvd.',\n '4142, Stevenson Blvd,\\nApartment No. 1205,\\nFremont, California - 94538',\n '1400 Smith Street, Suite 3803A\\nHouston, Texas 77002',\n 'Enron North America Corp.\\n1400 Smith St.\\nHouston, TX  77002',\n 'Cypress-Rosehill \\nRoad',\n 'Hwy 42 and I-40',\n 'Smith Creek Parkway',\n 'P O Box 26530, Austin, TX 78755',\n '2001 6th Ave., Eleventh Floor, Suite 1150, Seattle, WA 98121',\n '827 NE Oregon St., Suite 100, Portland, Oregon 97232',\n '150 South Fifth Street, Suite 2300\\nMinneapolis, MN. 55402',\n '58 East 68th Street\\nNew York, NY  10021',\n '1400 Smith Street, EB 3801a\\nHouston, Texas  77002',\n '151 Blue Ravine Road\\nFolsom, California  95639',\n '4142, Stevenson Blvd,\\nApartment No. 1205,\\nFremont, California - 94538',\n '1717 East Interstate Avenue\\nBismarck, North Dakota 58503',\n '1201 F Street, NW\\nWashington, DC  20004',\n '1231 25th St., NW, Washington, DC 20037',\n '106 E. College Avenue, Suite 1200\\nTallahassee, FL  32312',\n '1400 Smith Street (77002-7361)\\nP.O. Box 1188\\nHouston, Texas 77251-1188',\n '1400 Smith Street, EB 3640a\\nHouston, TX  77002',\n '89 Thoreau Street\\nConcord, MA 01742',\n '1400 Smith Street, EB 3801a\\nHouston, Texas  77002',\n '1700 Jefferson Davis Highway, Arlington',\n '1215 K STREET, 14TH FLOOR',\n '3440 Market Street, Suite 300\\nPhiladelphia, PA 19104',\n '1400 Smith Street, Suite 3803A\\nHouston, Texas 77002',\n '1300 Parkwood Circle, Suite  100\\nAtlanta, GA  30339',\n '517 College St. Suite #237\\nToronto, ON, Canada, M6G-4A2',\n '1200 New Hampshire Avenue, NW\\n> Suite 400\\n> Washington, DC  20036',\n 'Suite 3500 - 400 3rd Ave. S.W.\\nCalgary, Alberta\\nT2P 4H2',\n '19th street, Oakland',\n '600 Congress Avenue, Suite 2700  \\nAustin, TX 78701 ',\n '24201 North Highway One',\n 'Fort Bragg, CA 95437',\n '333 Clay St. Suite  2300\\n??? Houston, TX 77002-4196',\n '2001 Ross Avenue, Suite 2300\\nDallas, Texas 75201',\n '12330 West Avenue, Suite 204\\nSan Antonio, TX  78216',\n '2 Bloor Street West\\nSuite 700\\nToronto Canada\\nM4W 3R1',\n '109 North Post Oak Lane, Suite 425\\nHouston, Texas  77024',\n '2001 Ross Avenue, Suite 2300\\nDallas, Texas 75201',\n 'One South Church Street\\nTucson, AZ 85701',\n 'Clay St.',\n 'corner of Bell & Smith.',\n '4859 East Ridgecreek Dr',\n 'East Ridgecreek \\nDr',\n 'East Ridgecreek Dr.',\n 'Ridgestone St.',\n '1400 Smith Street, EB3803\\nHouston, Texas 77002',\n '1201 F Street, NW\\nWashington, DC  20004',\n '290 Washington Ave',\n '1400 Smith Street\\nHouston, Texas  77002',\n '1717 Main Street, Suite 3700\\nDallas, Texas 75201',\n 'Wheeler Road and 2.5',\n 'Wheeler Road',\n '516 Highland Avenue\\n  P.O. Box 299\\n  Carrollton, Kentucky 41008',\n '212 Locust St., Suite 200\\nHarrisburg, PA  17101',\n '1400 Smith Street (77002-7361)\\nP.O. Box 1188\\nHouston, Texas 77251-1188',\n 'corner of Michaux and West Cottage',\n '121 Salmon Street\\nPortland, Oregon 97204',\n '5202 West Channel Road\\nCatoosa, OK 74015-3017',\n '14023 Bay Oaks Blvd, Houston Texas  77059',\n '980 Ninth Street, Suite 1560\\nSacramento, CA 95814',\n '1400 16th Street \\nSuite 310\\nDenver, CO 80202',\n '1400 Smith Street\\nHouston, TX 77002-7361',\n '444 So. 16th Street MALL, 10E/EP 1 \\n> Omaha, NE 68102-2247',\n '1400 Smith Street, EB3803C\\nHouston, Texas  77002',\n 'One Sullivan Road\\nHolyoke, MA  01040-2841',\n '13220 Central Avenue\\nChino, California\\nSacramento, CA',\n '701 EAST 11TH STREET\\nAUSTIN, TX  78701',\n '1401 H Street, NW\\nSuite 760\\nWashington, DC  20005',\n '1600 Smith Street, Suite 4460\\nHouston, Texas 77002',\n 'Beltway 8 at Diplomatic Plaza Drive, in the World Houston Business Center',\n '1700 Smith Street\\n                  Houston',\n '125 Lincoln Street\\nBoston, MA 02116',\n '50 N. Laura St. Suite 2800\\nJacksonville, FL 32202',\n '111 N. Post Oak Lane, 77024.\\n',\n '1907 Holcombe Blvd, 77030',\n 'Virginia\\nAve., NW',\n '3900 Essex Lane, Suite 1110\\nHouston, Texas 77027',\n '1400 Smith Street, EB 3885\\nHouston, Texas 77002',\n '2345 Bering Dr., Apt. 514, \\nHouston, TX 77057',\n 'Suite 400\\n1111-11th Avenue S.W.\\nCalgary AB, Canada,\\nT2R 0G5',\n '10432 N Tantau Ave, Cupertino  333 South St.',\n '10435 N Tantau Ave, Cupertino  Old-Bolton Rd.',\n '10440 N Tantau Ave, Cupertino',\n '10501 N Tantau Ave, Cupertino',\n '10400 Ridgeview Crt., Cupertino',\n '10555 Ridgeview Crt., Cupertino',\n '7620 Katy Freeway at Silber',\n '1250 Fourth Street, Second Floor\\nSanta Monica, CA  90401',\n '424 Church Street, Suite 2800\\nNashville TN 37219-2386',\n 'Dallas St.\\n                  Houston, TX',\n '1201 F Street, NW\\nWashington, DC  20004',\n '1400 Smith Street, Suite 3803A\\nHouston, Texas 77002',\n '1415 OCEAN AVENUE\\n                            SANTA MONICA, CA 90401\\n                            UNITED STATES OF AMERICA',\n '1400 Smith Street, EB 3801a\\nHouston, Texas  77002',\n '1400 Smith Street, EB4836, Houston, Texas',\n '713 FARGO AVENUE\\nHOUSTON TX 77006',\n '21 McPherson Road, WHITEHORSE, Y.T. Y1A 5S3',\n '10100 N Tantau Ave., Cupertino  King Street',\n '10300 N Tantau Ave, Cupertino  Taylor St. Bldg.1',\n '10420 N Tantau Ave, Cupertino  Taylor St. Bldg.2',\n '10432 N Tantau Ave, Cupertino  333 South St.',\n '10435 N Tantau Ave, Cupertino  Old-Bolton Rd., Stow',\n '1400 Smith Street - EB3892\\nHouston, Texas 77008',\n '796 Escondido Road Apt. 29C\\nStanford, CA 94305',\n '10555 Ridgeview Crt., Cupertino  10251 North Fwy.',\n '10600 Ridgeview Crt., Cupertino  17111 Jarvis',\n '901 Page Ave., Fremont',\n '5425 Stevens Creek Blvd, Santa Clara',\n '400 Dallas Street\\nHouston, TX  77002',\n '141 E. 44th Street',\n '135 West 52nd Street',\n '1400 Smith Street, 3641\\nHouston, TX 77002',\n '24201 North Highway One',\n 'Fort Bragg, CA 95437',\n '1200 New Hampshire Avenue, NW\\nSuite 400\\nWashington, DC  20036',\n '1400 Smith Street, EB3803C \\nHouston, Texas  77002 ',\n '578-582 Market Street\\nNewark, NJ  07105',\n '359 Alfred Avenue\\nTeaneck, NJ 07666',\n '1231 25th St., NW, Washington, DC 20037',\n '1400 Smith Street, EB3803\\nHouston, Texas 77002',\n '7855 South River Parkway, Suite 111\\nTempe, Arizona 85284',\n '6301 Richmond Ave.\\nHouston, Texas 77057',\n '1400 Smith Street, EB 3885\\nHouston, Texas 77002',\n '19333 Vallco Pkwy., Cupertino  165 Dascomb Rd',\n '10100 N Tantau Ave., Cupertino  King Street',\n '10300 N Tantau Ave, Cupertino  Taylor St. Bldg.1',\n '10420 N Tantau Ave, Cupertino  Taylor St. Bldg.2',\n '10432 N Tantau Ave, Cupertino  333 South St.',\n '5959 Topanga Canyon Blvd.? Suite  244\\nWoodland Hills, CA 91367',\n '111 8th Avenue, Suite 1517, New York, NY 10011',\n '530 W. 6th \\nStreet, Suite 300, Los Angeles, CA 90014',\n '1329 Taylor Street, Suite 114\\nSan Francisco, CA  94108-1047',\n '275 Battery Street, 23rd Floor\\nSan Francisco, CA  94111',\n '1400 Smith Street, Suite 3803A\\nHouston, Texas 77002',\n '1401 New York Ave., NW \\n11th Floor \\nWashington, DC  20005 ',\n '9400 Circle Drive\\nAustin, TX  78736',\n '1400 Smith Street, EB 3801a\\n>Houston, Texas  77002',\n '3601 North Market\\nStreet\\n\\nWilmington, DE 19802',\n '600 5th Avenue, 27th Floor\\nRockefeller Center\\nNew York, NY  10020',\n '1860 Embarcadero Road - Suite 210\\n> Palo Alto, CA 94303',\n '121 SW Salmon Street \\nPortland, OR 97204',\n '1400 Smith Street, Houston, TX  \\n77002-7311',\n '1201 F Street, NW\\nWashington, DC  20004',\n '600 Fifth Avenue\\n> Rockefeller Center - 27th floor\\n> New York, NY 10020',\n '1400 Smith Street, EB3880D\\nHouston, TX  77002',\n 'Highway 90',\n '1860 Embarcadero Road - Suite 210\\nPalo Alto, CA 94303',\n '1400 Smith Street\\nRoom EB1962\\nHouston, TX 77002-7361',\n '234 West 48th Street',\n '210 West 55th Street',\n '1400 Smith Street, EB3803C\\nHouston, Texas  77002',\n '1400 Smith Street, EB 3801a\\nHouston, Texas  77002',\n '111 N. Post Oak Lane, 77024',\n '1907 Holcombe Blvd, 77030',\n 'Palace Lanes, 4191 Bellaire Blvd',\n '1201 F Street, NW\\nWashington, DC  20004',\n '5959 Topanga Canyon Blvd.  Suite 244\\nWoodland Hills, CA 91367',\n '39270 Donigan Rd.',\n '7005 S. Kyrene Road in Tempe',\n '600 Fifth Avenue\\nRockefeller Center - 27th floor\\nNew York, NY 10020',\n 'Andrews \\n Street',\n '1775 Eye Street, N.W.  Suite 800\\nWashington, D.C.  20006',\n '345 Park Avenue (between 51st and 52nd)\\n 31st floor',\n '113 south 1st street',\n 'Room 7B252\\n1000 Independence Avenue, SW\\nWashington, DC  20586',\n '578-582 Market Street\\nNewark, NJ  07105',\n '888 First Street, N.E. \\n\\nWashington, D.C. 20426',\n '111 North Post Oak Lane, Houston,  \\nTexas',\n '1400 Smith St. 0518e\\nHouston, TX 77002',\n '1400 Smith Street\\nHouston, Texas  77002',\n '5507 Ringgold Road, Chattanooga, TN 37412',\n '19191 Vallco Pkwy , Cupertino  200 Forest Street',\n '19333 Vallco Pkwy., Cupertino  165 Dascomb Rd',\n '10100 N Tantau Ave., Cupertino  King Street',\n '10300 N Tantau Ave, Cupertino  Taylor St. Bldg.1',\n '1400 Smith Street, Suite 4804\\nHouston, TX 77002',\n '201 N. Douglas Avenue, El Segundo, CA 90245',\n '652 Kent Avenue\\n4001\\n\\tSuite 400\\t\\t\\t\\t\\t\\tBrooklyn, NY\\n\\t580 5th Avenue\\n\\tNew York, New York 10036',\n '1400 Smith Street\\nHouston, Texas 77002',\n '1201 F Street, NW\\nWashington, DC  20004',\n '1215 K STREET, 14TH FLOOR',\n '4702 Gladesdale Park Lane\\n\\t\\tKaty, TX  77450',\n '103 Waterlily Circle\\nGeorgetown, TX  78628\\n',\n '2631 Inwood View',\n '10300 N Tantau Ave, Cupertino  Taylor St. Bldg.1',\n '10420 N Tantau Ave, Cupertino  Taylor St. Bldg.2',\n '10432 N Tantau Ave, Cupertino  333 South St.',\n '10435 N Tantau Ave, Cupertino  Old-Bolton Rd., Stow',\n '10440 N Tantau Ave, Cupertino',\n '8214 Colonial Oaks Lane\\n                                                                                                                                            Spring, Texas 77379',\n '713 FARGO AVE.\\nHOUSTON, TX 77006',\n '6038 SE Milwaukee Ave #4\\nCity:  Portland\\nState:  Oregon\\nZip:  97202\\nCountry:  United States',\n '319 West 48th Street',\n '234 West 48th Street',\n '5959 Topanga Canyon Blvd.  Suite 244\\nWoodland Hills, CA 91367',\n '1400 Smith Street, 3641\\nHouston, TX 77002',\n '555 13th St., NW.',\n '1400 Smith Street, EB3815\\nHouston, Texas 77002',\n '1400 Smith Street',\n 'NW corner of  Congress and\\nCrawford',\n '1717 Main Street, Suite 3700\\nDallas, Texas 75201',\n '1400 Smith St., Room 4802\\nHouston, Texas 77002',\n '1999 Jeff Davis Highway, Arlington, Va.',\n '1400 Smith Street\\nHouston, TX  77002-7311',\n '17 East Monroe Street\\n     Chicago, IL 60603',\n '52022 spruce rd..new carlisle',\n '1400 Smith St.\\nHouston, TX  77002',\n 'Andover Street',\n 'Wheeler Road',\n '1775 Eye Street, NW\\nSuite 800\\nWashington, DC 20006',\n '133 Fleet Street',\n \"2 Queen's Road Central\",\n '604 Polk Street',\n '10555 Ridgeview Crt., Cupertino  10251 North Fwy.,\\n> Houston',\n '10600 Ridgeview Crt., Cupertino  17111 Jarvis,\\n> Houston',\n '901 Page Ave., Fremont',\n '5425 Stevens Creek Blvd, Santa Clara',\n '155 Byron Street     6 Picton Street\\nNiagara-on-the-Lake, ON',\n '1400 Smith St.\\nHouston, TX 77002-7361',\n 'Heights Blvd, 11am\\n1007 Height Blvd\\nuturn 11th street 4th bldg on right, lavander house',\n '2600 Airport Drive, Columbus, Ohio,\\n43219',\n '1729 Hill Road North',\n 'Hwy 42 and I-40',\n '580 WestLake Park Blvd., Suite 1300\\nHouston, TX  77079',\n '79 John F. Kennedy Street\\nCambridge, MA 02138',\n '1717 Main Street, Suite 3700\\nDallas, Texas 75201',\n '11 Cornell Road, Latham,\\nNY',\n '1400 Smith St.\\nHouston, TX  77002',\n '5765-F Burke Center Parkway (PMB333)\\nBurke, VA 22015-2233',\n 'Tinseltown Usa  290  (Cinemark) 12920  NW Freeway, Houston, TX 77040',\n '2000 K St., N.W.\\nSuite 500\\nWashington, D.C.   20006-1872',\n '1 West 39th\\nStreet\\n\\t\\t\\t\\t\\t\\t\\t\\t\\tSC 2\\nLevel\\n\\t\\t\\t\\t\\t\\t\\t\\t\\tNew\\nYork, NY 10018',\n '10420 N Tantau Ave, Cupertino  Taylor St. Bldg.2',\n '10432 N Tantau Ave, Cupertino  333 South St.',\n '10440 N Tantau Ave, Cupertino',\n '10435 N Tantau Ave, Cupertino  Old-Bolton Rd.',\n '10501 N Tantau Ave, Cupertino',\n '1600 River Oaks  Blvd.',\n '1000 Louisiana, Suite 5800, Houston, TX 77002',\n '1400 Smith Street, Houston, TX 77002',\n '2500 Mason St.\\n> San Francisco, CA 94133',\n '1400 Smith Street\\nHouston, TX\\n77002 United States',\n '2100 SW River Parkway\\nPortland, OR 97201',\n '1129 Broad Street, Suite 8\\nShrewsbury, NJ  07702',\n 'Beaufort House, Chertsey Street, Guildford GU1 4HA ',\n '51 Eastcheap, London, EC3M 1JP ',\n '1400 Smith Street, EB3880D\\nHouston, TX  77002',\n '550 15th Street, #26\\nSan Francisco, CA  94103',\n '81 Ruckman Road\\nP.O. Box 775\\nCloster, NJ 07624',\n '10432 N Tantau Ave, Cupertino  333 South St.',\n '10435 N Tantau Ave, Cupertino  Old-Bolton Rd., Stow',\n '10440 N Tantau Ave, Cupertino',\n '10501 N Tantau Ave, Cupertino',\n '10400 Ridgeview Crt., Cupertino  10225 Louetta',\n '1400 Smith Street EB 3893\\nHouston Texas 77002',\n 'North Creek Parkway North Bothell, WA 98011',\n '19191 Vallco Pkwy , Cupertino  200 Forest Street',\n '19333 Vallco Pkwy., Cupertino  165 Dascomb Rd',\n '10100 N Tantau Ave., Cupertino  King Street',\n '10300 N Tantau Ave, Cupertino  Taylor St. Bldg.1',\n '10420 N Tantau Ave, Cupertino  Taylor St. Bldg.2',\n '18 Shepard Terrace\\nMadison, WI  53705',\n '600 Fifth Avenue (entrance on 48th Street), 27th\\nfloor',\n 'Enron North America\\n1400 Smith Street, EB3833\\nHouston, TX  77002-7361',\n '1400 Smith Street, EB4771 \\nHouston, Tx 77001713) 853-7172 ',\n '8200 McCoy Road.',\n '37 Grant Street\\nW. Newton, MA 02465',\n '2302 Travis St. \\n\\t#8225\\n\\tHouston, TX  77006\\n\\tUSA',\n '1400 Smith Street EB 3893\\nHouston Texas 77002',\n '122 C Street, NW\\nSuite 500',\n '79 John F. Kennedy Street\\nCambridge, MA 02138',\n '1400 Smith Street, Suite 3803A\\nHouston, Texas 77002',\n 'Canal Street, in the Borough of Manhattan,\\nCity of New York',\n '11831 North Creek Parkway N.\\nBothell, WA 98011',\n 'Route 117',\n 'Old House Lane',\n '1400 Smith Street, Suite 3803A\\nHouston, Texas 77002',\n '701 B\\nStreet, Suite 2100',\n '333 W Harbor Drive',\n '1 North End Avenue\\nNY NY 10282',\n '600 Travis Street, 6th Floor\\nHouston, Texas  77252-8330',\n '5959 Topanga Canyon Blvd.  Suite  244\\nWoodland Hills, CA 91367',\n '1515 S. Capital of Texas Highway\\nSuite 101\\nAustin, TX 78746',\n '1955 East West Road, Ag Sci 205',\n 'Honolulu, Hawaii 96822',\n '11831 North Creek Parkway N.\\nBothell, WA 98011',\n 'Wheeler Road',\n 'Andover Street',\n '1700 Westlake Ave N, Ste 500\\nSeattle, WA 98109',\n '1400 Smith Street, EB3206a\\n> > Houston, TX  77002',\n '333 Clay Street, Suite 3AC2023\\nHouston, Texas  77002-7361',\n '2119 Milford St.\\n> Houston, TX 77098',\n '1900 Chevron Tower\\n1301 McKinney Street\\nHouston, Texas 77010',\n 'I-10 & Dairy Ashford',\n 'Dairy Ashford',\n 'Tully Toad',\n 'Tully ',\n '1400 Smith Street, EB 3801a\\nHouston, Texas  77002',\n '100 Quentin Roosevelt Blvd.\\nGarden City, New York 11530-4850',\n '1717 Main Street, Suite 3700\\nDallas, Texas 75201',\n '1300 Lamar Street \\nHouston, TX 77010-3098 ',\n '1201 F St., NW, Suite 700\\nWashington, DC 20004-1204',\n '455 Washington Ave.\\nJersey City, NJ ',\n '1605 Broadway',\n '1400 Smith Street, Suite 3864\\nHouston, TX 77002-7361',\n '2302 Travis St.\\n\\t#8225\\n\\tHouston, TX 77006\\n\\tUSA',\n '445 W. Main St.\\nClarksburg, WV 26301',\n '401-3511 14a St. SW\\nCalgary, AB\\nT2T 3Y1',\n '7620 Katy Freeway',\n '452 Meadowood Road\\nJackson, NJ 08527',\n '620 Randall Way',\n '2516 Times  BLVD\\nRice Village',\n '2000 K St., N.W.\\nSuite 500\\nWashington, D.C.   20006-1872',\n '2300 First City Tower\\n1001 Fannin Street\\nHouston, TX 77002',\n '900 19th Street, NW\\nSuite 800\\nWashington, DC  20006',\n '12600 SE 38th Street, Suite 202\\n> Bellevue, WA 98006',\n '1516 Ninth Street, MS-29\\nSacramento, CA 95814',\n '1400 Smith Street, EB 3835A\\nHouston, TX  77002',\n 'Bell & Smith',\n 'Clay St.',\n '133 Fleet Street',\n \"2 Queen's Road Central\",\n '5959 Topanga Canyon Blvd.  Suite 244\\nWoodland Hills, CA 91367',\n '1231 25th St., NW, Washington, DC 20037.',\n '2939 Ferndale Street\\nHouston, Texas 77098',\n '500 Oracle Parkway\\n>Redwood Shores, CA 94065',\n '1600 \\nSmith Street',\n '130 Freeman Avenue \\nIslip, NY 11751',\n '1003 Shadow Circle\\n\\tLeague City, TX 77573',\n '1330 Post Oak Blvd. - Suite #1900\\nHouston, Texas  77056',\n '600 5th Avenue, 27th Floor\\nRockefeller Center\\nNew York, NY  10020',\n '1400 Smith Street, Houston, TX  77002-7311',\n '200 Constitution Avenue, N.W., Washington, D.C. 20210',\n '1400 Smith St.\\nHouston, TX  77002',\n '14811 St Mary Lane\\nSuite 150\\nHouston, TX  77079',\n '2050 Spectrum Blvd. Ft. Lauderdale, FL 33309 ',\n '1322 Rutland Houston, TX 77008 United States',\n '1400 Smith St., Room 4802\\nHouston, Texas 77002',\n 'Heights Blvd, 11am\\n1007 Height Blvd',\n '11th street 4th bldg',\n 'Smith Creek Parkway',\n 'Market\\nStreet',\n '23rd St',\n '1400 Smith Street, Suite 3857\\nHouston, Texas 77002',\n 'I-10 & Dairy Ashford',\n '1400 Smith Street, EB3817\\nHouston, Texas 77019',\n '3 Park Ave., 26th Floor\\nNew York, NY 10016',\n '393 St-Jacques Street West, Suite 200',\n '245 Market Street\\n> > Conference Rooms A/B\\n> > San Francisco, CA',\n '1562 First Avenue, Suite 291',\n '111 8th Avenue, Suite 1517, New York, NY 10011',\n '530 W. 6th \\nStreet, Suite 300, Los Angeles, CA 90014',\n '333 Clay Street, 11th Floor\\nHouston, TX 77002',\n '2366 Eastlake Avenue East\\nSuite 311\\nSeattle, Washington  98102',\n '1900 Chevron Tower\\n1301 McKinney Street\\nHouston, Texas 77010',\n '2900 Manulife Place\\n10180 - 101 Street\\nEdmonton, AB  T5J 3V5',\n '2019 Post Oak Blvd.',\n '7325 EAST THIRD AVENUE\\n                            SCOTTSDALE, AZ 85251\\n                            UNITED STATES OF AMERICA',\n '22ND ST',\n '22ND ST',\n '77 Beale Street, Conference Room 308\\n                 San Francisco, CA   94177',\n '1231 25th St., NW, Washington, DC 20037',\n '1400 Smith Street, EB 3835A\\nHouston, TX  77002',\n '855 - 2nd Street SW',\n 'East Tower, Bankers Hall',\n 'Suite 3500\\nCalgary, Alberta, Canada',\n '10100 N Tantau Ave., Cupertino  King Street,',\n '19333 Vallco Pkwy., Cupertino  165 Dascomb Rd',\n '19191 Vallco Pkwy , Cupertino  200 Forest Street',\n '2302 Travis St. #8225\\n\\n    Houston, TX 77006\\n    United States of America',\n '1601 Prospect Parkway\\nFort Collins, CO  80525',\n '333 Clay Street, 11th Floor\\nHouston, TX 77002']"
     },
     "execution_count": 13,
     "metadata": {},
     "output_type": "execute_result"
    }
   ],
   "source": [
    "all_values = []\n",
    "for val in enron_df['values']:\n",
    "    all_values.extend(val)\n",
    "\n",
    "all_values"
   ],
   "metadata": {
    "collapsed": false,
    "pycharm": {
     "name": "#%%\n"
    }
   }
  },
  {
   "cell_type": "code",
   "execution_count": 14,
   "outputs": [],
   "source": [
    "enron_df.to_pickle(\"../data/processed/enron.pickle\")"
   ],
   "metadata": {
    "collapsed": false,
    "pycharm": {
     "name": "#%%\n"
    }
   }
  },
  {
   "cell_type": "code",
   "execution_count": 15,
   "outputs": [
    {
     "data": {
      "text/plain": "                                                  data              label  \\\nid                                                                          \n759  the spread calculations referenced were tied t...  [[232, 265, GPE]]   \n215  \\nConsorcio thereafter appealed through a proc...                 []   \n349  \\n\\nAngela Papesch\\nHead of Asia-Pacific Offic...  [[104, 157, GPE]]   \n167  Hi Phillip,\\n \\nThanks for your winning bid on...  [[397, 441, GPE]]   \n262  > should be removable to federal court.\\n>\\n> ...                 []   \n..                                                 ...                ...   \n276  ** - GEL ALERT HIGHLIGHTS: Employee Benefits: ...                 []   \n686  have been applied until the case was removed t...                 []   \n11   \\nJeff Youngflesh\\nDirector, Business Developm...   [[86, 131, GPE]]   \n775  X-bcc: \\nX-Folder: \\Steven_Kean_Dec2000_1\\Note...                 []   \n321  Line R.R. Co.\"  <mailto:edward.d.burmeister@ba...                 []   \n\n                                                values  \nid                                                      \n759               [1400 Smith St.\\nHouston, TX  77002]  \n215                                                 []  \n349  [1 Robinson Road - #18-00 AIA Tower - Singapor...  \n167    [141 McCallie Lane\\nLookout Mountain, GA 30750]  \n262                                                 []  \n..                                                 ...  \n276                                                 []  \n686                                                 []  \n11    [333 Clay Street, 11th Floor\\nHouston, TX 77002]  \n775                                                 []  \n321                                                 []  \n\n[654 rows x 3 columns]",
      "text/html": "<div>\n<style scoped>\n    .dataframe tbody tr th:only-of-type {\n        vertical-align: middle;\n    }\n\n    .dataframe tbody tr th {\n        vertical-align: top;\n    }\n\n    .dataframe thead th {\n        text-align: right;\n    }\n</style>\n<table border=\"1\" class=\"dataframe\">\n  <thead>\n    <tr style=\"text-align: right;\">\n      <th></th>\n      <th>data</th>\n      <th>label</th>\n      <th>values</th>\n    </tr>\n    <tr>\n      <th>id</th>\n      <th></th>\n      <th></th>\n      <th></th>\n    </tr>\n  </thead>\n  <tbody>\n    <tr>\n      <th>759</th>\n      <td>the spread calculations referenced were tied t...</td>\n      <td>[[232, 265, GPE]]</td>\n      <td>[1400 Smith St.\\nHouston, TX  77002]</td>\n    </tr>\n    <tr>\n      <th>215</th>\n      <td>\\nConsorcio thereafter appealed through a proc...</td>\n      <td>[]</td>\n      <td>[]</td>\n    </tr>\n    <tr>\n      <th>349</th>\n      <td>\\n\\nAngela Papesch\\nHead of Asia-Pacific Offic...</td>\n      <td>[[104, 157, GPE]]</td>\n      <td>[1 Robinson Road - #18-00 AIA Tower - Singapor...</td>\n    </tr>\n    <tr>\n      <th>167</th>\n      <td>Hi Phillip,\\n \\nThanks for your winning bid on...</td>\n      <td>[[397, 441, GPE]]</td>\n      <td>[141 McCallie Lane\\nLookout Mountain, GA 30750]</td>\n    </tr>\n    <tr>\n      <th>262</th>\n      <td>&gt; should be removable to federal court.\\n&gt;\\n&gt; ...</td>\n      <td>[]</td>\n      <td>[]</td>\n    </tr>\n    <tr>\n      <th>...</th>\n      <td>...</td>\n      <td>...</td>\n      <td>...</td>\n    </tr>\n    <tr>\n      <th>276</th>\n      <td>** - GEL ALERT HIGHLIGHTS: Employee Benefits: ...</td>\n      <td>[]</td>\n      <td>[]</td>\n    </tr>\n    <tr>\n      <th>686</th>\n      <td>have been applied until the case was removed t...</td>\n      <td>[]</td>\n      <td>[]</td>\n    </tr>\n    <tr>\n      <th>11</th>\n      <td>\\nJeff Youngflesh\\nDirector, Business Developm...</td>\n      <td>[[86, 131, GPE]]</td>\n      <td>[333 Clay Street, 11th Floor\\nHouston, TX 77002]</td>\n    </tr>\n    <tr>\n      <th>775</th>\n      <td>X-bcc: \\nX-Folder: \\Steven_Kean_Dec2000_1\\Note...</td>\n      <td>[]</td>\n      <td>[]</td>\n    </tr>\n    <tr>\n      <th>321</th>\n      <td>Line R.R. Co.\"  &lt;mailto:edward.d.burmeister@ba...</td>\n      <td>[]</td>\n      <td>[]</td>\n    </tr>\n  </tbody>\n</table>\n<p>654 rows × 3 columns</p>\n</div>"
     },
     "execution_count": 15,
     "metadata": {},
     "output_type": "execute_result"
    }
   ],
   "source": [
    "pd.read_pickle(\"../data/processed/enron.pickle\")"
   ],
   "metadata": {
    "collapsed": false,
    "pycharm": {
     "name": "#%%\n"
    }
   }
  },
  {
   "cell_type": "code",
   "execution_count": null,
   "outputs": [],
   "source": [],
   "metadata": {
    "collapsed": false,
    "pycharm": {
     "name": "#%%\n"
    }
   }
  }
 ],
 "metadata": {
  "kernelspec": {
   "display_name": "address",
   "language": "python",
   "name": "address"
  },
  "language_info": {
   "codemirror_mode": {
    "name": "ipython",
    "version": 3
   },
   "file_extension": ".py",
   "mimetype": "text/x-python",
   "name": "python",
   "nbconvert_exporter": "python",
   "pygments_lexer": "ipython3",
   "version": "3.9.6"
  }
 },
 "nbformat": 4,
 "nbformat_minor": 5
}