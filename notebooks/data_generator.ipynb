{
 "metadata": {
  "language_info": {
   "codemirror_mode": {
    "name": "ipython",
    "version": 3
   },
   "file_extension": ".py",
   "mimetype": "text/x-python",
   "name": "python",
   "nbconvert_exporter": "python",
   "pygments_lexer": "ipython3",
   "version": "3.8.10"
  },
  "orig_nbformat": 4,
  "kernelspec": {
   "name": "python3",
   "display_name": "Python 3.8.10 64-bit ('address': virtualenv)"
  },
  "interpreter": {
   "hash": "44acb1839da533283325c49d8a2ac7bf01c05426dc88dc963dbf3f573e808931"
  }
 },
 "nbformat": 4,
 "nbformat_minor": 2,
 "cells": [
  {
   "cell_type": "code",
   "execution_count": 1,
   "source": [
    "from revised_data_generator.main import generate\n",
    "\n",
    "import datetime\n",
    "import pandas as pd\n",
    "import pickle"
   ],
   "outputs": [],
   "metadata": {}
  },
  {
   "cell_type": "markdown",
   "source": [
    "# Expanding Enron with data Presidio data generator"
   ],
   "metadata": {}
  },
  {
   "cell_type": "code",
   "execution_count": 3,
   "source": [
    "def extract_address_templates(row) -> str:\n",
    "    \"\"\"\n",
    "    get a row and extract the template for of the label for it\n",
    "    i.e. \n",
    "    a third right onto Vernon Blvd\n",
    "    turns to:\n",
    "    a third right onto [ADDRESS]\n",
    "    \"\"\"\n",
    "    text = row.data\n",
    "    #remove any square brackets since they interfere with the process\n",
    "    text = text.replace(\"[\",\"\").replace(\"]\",\"\")\n",
    "\n",
    "    template = \"\"\n",
    "    labels = row.label\n",
    "    index = 0\n",
    "    for label in labels:\n",
    "        start = label[0]\n",
    "        end = label[1]\n",
    "        template += text[index:start] + \"{ADDRESS}\" \n",
    "        index = end\n",
    "    template += text[index:]\n",
    "    return template\n",
    "\n",
    "f = open(\"../../enron.pickle\", 'rb')\n",
    "df = pickle.load(f)\n",
    "\n",
    "# 1. get the rows that have at least one address in them\n",
    "df_with_address = df[df.label.apply(len) != 0]\n",
    "df_with_address\n",
    "\n",
    "# 2. make a list of all the Addresses\n",
    "addresses = df_with_address['values'].sum()\n",
    "print(\"Addresses len:\", len(addresses))\n",
    "address_df = pd.DataFrame(addresses, columns=['ADDRESS'])\n",
    "\n",
    "# 3. create template sentneces\n",
    "df_with_address[\"template\"] = df_with_address.apply(extract_address_templates, axis = 1)\n",
    "templates = df_with_address[\"template\"].to_list()\n",
    "print(\"templates len:\", len(templates))\n",
    "\n",
    "# 4. let's use presidio data generator\n",
    "EXAMPLES = 1000\n",
    "SPAN_TO_TAG = True \n",
    "KEEP_ONLY_TAGGED = False\n",
    "LOWER_CASE_RATIO = 0.1\n",
    "\n",
    "cur_time = datetime.date.today().strftime(\"%B_%d_%Y\")\n",
    "OUTPUT = \"../../presidio-research/data/generated_address_size_{}_date_{}.json\".format(EXAMPLES, cur_time)\n",
    "\n",
    "\n",
    "dictionary_path = None\n",
    "\n",
    "examples = generate(fake_pii_csv = address_df,\n",
    "                        utterances_file=templates,\n",
    "                        dictionary_path=dictionary_path,\n",
    "                        output_file=OUTPUT,\n",
    "                        lower_case_ratio=LOWER_CASE_RATIO,\n",
    "                        num_of_examples=EXAMPLES,\n",
    "                        # ignore_types=IGNORE_TYPES,\n",
    "                        include_metadata = True,\n",
    "                        if_prep_templates = False, \n",
    "                        keep_only_tagged=KEEP_ONLY_TAGGED,\n",
    "                        span_to_tag=SPAN_TO_TAG)"
   ],
   "outputs": [
    {
     "output_type": "stream",
     "name": "stderr",
     "text": [
      "/tmp/ipykernel_150039/1164355619.py:37: SettingWithCopyWarning: \n",
      "A value is trying to be set on a copy of a slice from a DataFrame.\n",
      "Try using .loc[row_indexer,col_indexer] = value instead\n",
      "\n",
      "See the caveats in the documentation: https://pandas.pydata.org/pandas-docs/stable/user_guide/indexing.html#returning-a-view-versus-a-copy\n",
      "  df_with_address[\"template\"] = df_with_address.apply(extract_address_templates, axis = 1)\n",
      "  1%|          | 11/1000 [00:00<00:09, 103.23it/s]"
     ]
    },
    {
     "output_type": "stream",
     "name": "stdout",
     "text": [
      "Addresses len: 397\n",
      "templates len: 309\n",
      "Warning: Dictionary path not provided. Feature `is_in_vocabulary` will be set to False for all samples\n",
      "DATE is taken from the BIRTHDAY column which is missing\n",
      "Generating address parts\n",
      "Generating roles\n",
      "Generating titles\n",
      "Cannot generate title without a GENDER column. Generating FEMALE_TITLE and MALE_TITLE\n",
      "Generating nationalities\n",
      "Generating IBANs\n",
      "Generating IP addresses\n",
      "Generating SSN numbers\n",
      "Generating US driver license numbers\n",
      "Generating URLs\n",
      "Cannot generate url without a domain name\n",
      "Generating company names\n",
      "Finished preparing fake PII data\n"
     ]
    },
    {
     "output_type": "stream",
     "name": "stderr",
     "text": [
      "100%|██████████| 1000/1000 [00:10<00:00, 92.53it/s]\n"
     ]
    },
    {
     "output_type": "stream",
     "name": "stdout",
     "text": [
      "generated 1000 examples\n",
      "Finished creating generated dataset. File location:../../presidio-research/data/generated_address_size_1000_date_November_07_2021.json\n"
     ]
    }
   ],
   "metadata": {}
  }
 ]
}