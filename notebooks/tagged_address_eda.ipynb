{
 "cells": [
  {
   "cell_type": "code",
   "execution_count": 2,
   "metadata": {},
   "outputs": [],
   "source": [
    "import pickle\n",
    "from collections import Counter\n",
    "import string\n",
    "from typing import Union, List, Tuple\n",
    "import numpy as np\n",
    "import spacy\n",
    "from spacy.tokens import Doc, Token\n",
    "\n",
    "import matplotlib.pyplot as plt"
   ]
  },
  {
   "cell_type": "markdown",
   "source": [
    "# Synthetic dataset EDA\n",
    "\n",
    "This notebook contains a simple exploratory data analysis of the dataset found here: https://github.com/bagrii/address_extraction\n",
    "This dataset is under the MIT license, which can be found [here](https://github.com/bagrii/address_extraction/blob/master/LICENSE)"
   ],
   "metadata": {
    "collapsed": false
   }
  },
  {
   "cell_type": "code",
   "execution_count": null,
   "outputs": [],
   "source": [],
   "metadata": {
    "collapsed": false,
    "pycharm": {
     "name": "#%%\n"
    }
   }
  },
  {
   "cell_type": "code",
   "execution_count": 3,
   "metadata": {
    "pycharm": {
     "name": "#%%\n"
    }
   },
   "outputs": [],
   "source": [
    "with open(\"../data/raw/IOB_tagged_addresses.pkl\", 'rb') as f:\n",
    "    iob_data: List[List[Tuple[Tuple[str,str],str]]] = pickle.load(f)\n",
    "\n",
    "# iob_data is a list of sentences. Each sentence is comprised of tokens.\n",
    "# Each token is comprised a Tuple: ((text, pos), entity)"
   ]
  },
  {
   "cell_type": "code",
   "execution_count": 4,
   "metadata": {
    "pycharm": {
     "name": "#%%\n"
    }
   },
   "outputs": [
    {
     "name": "stdout",
     "output_type": "stream",
     "text": [
      "Dataset contains 9403 sentences.\n"
     ]
    }
   ],
   "source": [
    "print(f\"Dataset contains {len(iob_data)} sentences.\")"
   ]
  },
  {
   "cell_type": "code",
   "execution_count": 5,
   "metadata": {
    "pycharm": {
     "name": "#%%\n"
    }
   },
   "outputs": [
    {
     "name": "stdout",
     "output_type": "stream",
     "text": [
      "Tokens per tag:\n",
      "Counter({'O': 391295, 'I-GPE': 60500, 'B-GPE': 7650})\n"
     ]
    }
   ],
   "source": [
    "def tags_in_sentence(sent):\n",
    "    return [token[1] for token in sent]\n",
    "\n",
    "entities_counter = Counter()\n",
    "for sentence in iob_data:\n",
    "    entities_counter.update(tags_in_sentence(sentence))\n",
    "\n",
    "print(\"Tokens per tag:\")\n",
    "print(entities_counter)"
   ]
  },
  {
   "cell_type": "markdown",
   "metadata": {
    "pycharm": {
     "name": "#%% md\n"
    }
   },
   "source": [
    "Example sentences"
   ]
  },
  {
   "cell_type": "code",
   "execution_count": 6,
   "metadata": {
    "pycharm": {
     "name": "#%%\n"
    }
   },
   "outputs": [
    {
     "name": "stdout",
     "output_type": "stream",
     "text": [
      "Text:\n",
      "Mr. Vinken is chairman of Elsevier N.V., the 1085 Powers Place, Alpharetta, Georgia, 30004 publishing group.\n",
      "IOB:\n",
      "[(('Mr.', 'NNP'), 'O'), (('Vinken', 'NNP'), 'O'), (('is', 'VBZ'), 'O'), (('chairman', 'NN'), 'O'), (('of', 'IN'), 'O'), (('Elsevier', 'NNP'), 'O'), (('N.V.', 'NNP'), 'O'), ((',', ','), 'O'), (('the', 'DT'), 'O'), (('1085', 'CD'), 'B-GPE'), (('Powers', 'NNPS'), 'I-GPE'), (('Place', 'NNP'), 'I-GPE'), ((',', ','), 'I-GPE'), (('Alpharetta', 'NNP'), 'I-GPE'), ((',', ','), 'I-GPE'), (('Georgia', 'NNP'), 'I-GPE'), ((',', ','), 'I-GPE'), (('30004', 'CD'), 'I-GPE'), (('publishing', 'VBG'), 'O'), (('group', 'NN'), 'O'), (('.', '.'), 'O')]\n",
      "\n",
      "\n",
      "Text:\n",
      "Rudolph 1500 California St San Francisco, CA, 55 years old and former chairman of Consolidated Gold Fields PLC, was named *-1 a nonexecutive director of this 700 Bush St San Francisco, CA industrial conglomerate.\n",
      "IOB:\n",
      "[(('Rudolph', 'NNP'), 'O'), (('1500', 'CD'), 'B-GPE'), (('California', 'NNP'), 'I-GPE'), (('St', 'NNP'), 'I-GPE'), (('San', 'NNP'), 'I-GPE'), (('Francisco', 'NNP'), 'I-GPE'), ((',', ','), 'I-GPE'), (('CA', 'NNP'), 'I-GPE'), ((',', ','), 'O'), (('55', 'CD'), 'O'), (('years', 'NNS'), 'O'), (('old', 'JJ'), 'O'), (('and', 'CC'), 'O'), (('former', 'JJ'), 'O'), (('chairman', 'NN'), 'O'), (('of', 'IN'), 'O'), (('Consolidated', 'NNP'), 'O'), (('Gold', 'NNP'), 'O'), (('Fields', 'NNP'), 'O'), (('PLC', 'NNP'), 'O'), ((',', ','), 'O'), (('was', 'VBD'), 'O'), (('named', 'VBN'), 'O'), (('*-1', '-NONE-'), 'O'), (('a', 'DT'), 'O'), (('nonexecutive', 'JJ'), 'O'), (('director', 'NN'), 'O'), (('of', 'IN'), 'O'), (('this', 'DT'), 'O'), (('700', 'CD'), 'B-GPE'), (('Bush', 'NNP'), 'I-GPE'), (('St', 'NNP'), 'I-GPE'), (('San', 'NNP'), 'I-GPE'), (('Francisco', 'NNP'), 'I-GPE'), ((',', ','), 'I-GPE'), (('CA', 'NNP'), 'I-GPE'), (('industrial', 'JJ'), 'O'), (('conglomerate', 'NN'), 'O'), (('.', '.'), 'O')]\n",
      "\n",
      "\n",
      "Text:\n",
      "Alan 19 Old Fulton St Brooklyn NY 11201, recently named* 34 East 52nd St New York NY 10022 president, said 0 524 Port Richmond Ave Staten Island NY 10302's ad rates would increase 5% in January.\n",
      "IOB:\n",
      "[(('Alan', 'NNP'), 'O'), (('19', 'CD'), 'B-GPE'), (('Old', 'NNP'), 'I-GPE'), (('Fulton', 'NNP'), 'I-GPE'), (('St', 'NNP'), 'I-GPE'), (('Brooklyn', 'NNP'), 'I-GPE'), (('NY', 'NNP'), 'I-GPE'), (('11201', 'CD'), 'I-GPE'), ((',', ','), 'O'), (('recently', 'RB'), 'O'), (('named', 'VBN'), 'O'), (('*', '-NONE-'), 'O'), (('34', 'CD'), 'B-GPE'), (('East', 'NNP'), 'I-GPE'), (('52nd', 'CD'), 'I-GPE'), (('St', 'NNP'), 'I-GPE'), (('New', 'NNP'), 'I-GPE'), (('York', 'NNP'), 'I-GPE'), (('NY', 'NNP'), 'I-GPE'), (('10022', 'CD'), 'I-GPE'), (('president', 'NN'), 'O'), ((',', ','), 'O'), (('said', 'VBD'), 'O'), (('0', '-NONE-'), 'O'), (('524', 'CD'), 'B-GPE'), (('Port', 'NNP'), 'I-GPE'), (('Richmond', 'NNP'), 'I-GPE'), (('Ave', 'NNP'), 'I-GPE'), (('Staten', 'NNP'), 'I-GPE'), (('Island', 'NNP'), 'I-GPE'), (('NY', 'NNP'), 'I-GPE'), (('10302', 'CD'), 'I-GPE'), ((\"'s\", 'POS'), 'O'), (('ad', 'NN'), 'O'), (('rates', 'NNS'), 'O'), (('would', 'MD'), 'O'), (('increase', 'VB'), 'O'), (('5', 'CD'), 'O'), (('%', 'NN'), 'O'), (('in', 'IN'), 'O'), (('January', 'NNP'), 'O'), (('.', '.'), 'O')]\n",
      "\n",
      "\n",
      "Text:\n",
      "Meanwhile, business and government leaders rebuked the computer makers, and fretted about the broader statement 0 the companies' actions make *T*-1 about 55 Fourth Street cutthroat pricing.\n",
      "IOB:\n",
      "[(('Meanwhile', 'RB'), 'O'), ((',', ','), 'O'), (('business', 'NN'), 'O'), (('and', 'CC'), 'O'), (('government', 'NN'), 'O'), (('leaders', 'NNS'), 'O'), (('rebuked', 'VBD'), 'O'), (('the', 'DT'), 'O'), (('computer', 'NN'), 'O'), (('makers', 'NNS'), 'O'), ((',', ','), 'O'), (('and', 'CC'), 'O'), (('fretted', 'VBD'), 'O'), (('about', 'IN'), 'O'), (('the', 'DT'), 'O'), (('broader', 'JJR'), 'O'), (('statement', 'NN'), 'O'), (('0', '-NONE-'), 'O'), (('the', 'DT'), 'O'), (('companies', 'NNS'), 'O'), ((\"'\", 'POS'), 'O'), (('actions', 'NNS'), 'O'), (('make', 'VBP'), 'O'), (('*T*-1', '-NONE-'), 'O'), (('about', 'IN'), 'O'), (('55', 'CD'), 'B-GPE'), (('Fourth', 'NNP'), 'I-GPE'), (('Street', 'NNP'), 'I-GPE'), (('cutthroat', 'JJ'), 'O'), (('pricing', 'NN'), 'O'), (('.', '.'), 'O')]\n",
      "\n",
      "\n"
     ]
    }
   ],
   "source": [
    "def get_sentence_text(sentence: List[Tuple[Tuple[str,str],str]]):\n",
    "    tokens =[token[0][0] for token in sentence]\n",
    "    return \"\".join([\" \"+i if not i.startswith(\"'\")\n",
    "                             and i not in string.punctuation\n",
    "                    else i for i in tokens]).strip()\n",
    "\n",
    "for x in (1,2,100,1000):\n",
    "    print(f\"Text:\\n{get_sentence_text(iob_data[x])}\")\n",
    "    print(f\"IOB:\\n{iob_data[x]}\")\n",
    "\n",
    "    print(\"\\n\")"
   ]
  },
  {
   "cell_type": "markdown",
   "metadata": {},
   "source": [
    "#### Create templates\n",
    " Templates = Sentences without the actual address, to which we can later inject new addresses."
   ]
  },
  {
   "cell_type": "code",
   "execution_count": 7,
   "metadata": {
    "pycharm": {
     "name": "#%%\n"
    }
   },
   "outputs": [],
   "source": [
    "def detokenize(list_of_tokens: Union[List[str],Doc]) -> str:\n",
    "    \"\"\"\n",
    "    Naive detokenization transforming a list of tokens (either text or spaCy's) to text\n",
    "    \"\"\"\n",
    "    if isinstance(list_of_tokens,Doc):\n",
    "        list_of_tokens = [token.text for token in list_of_tokens]\n",
    "    return \"\".join([\" \"+i if not i.startswith(\"'\")\n",
    "                             and i not in string.punctuation\n",
    "                    else i for i in list_of_tokens]).strip()\n",
    "\n",
    "\n",
    "def get_template(sentence: List[Tuple[Tuple[str,str],str]], mask = \"[GPE]\"):\n",
    "    masked_tokens = []\n",
    "    first=True\n",
    "    for token in sentence:\n",
    "        if token[1] == \"O\":\n",
    "            masked_tokens.append(token[0][0])\n",
    "            first=True\n",
    "        else:\n",
    "            if first:\n",
    "                masked_tokens.append(mask)\n",
    "                first=False\n",
    "    return detokenize(masked_tokens)\n",
    "\n",
    "\n",
    "templates = []\n",
    "for sentence in iob_data:\n",
    "    templates.append(get_template(sentence))\n",
    "\n",
    "with open(\"../data/interim/templates.txt\",\"w+\",encoding=\"utf-8\") as f:\n",
    "    f.writelines(\"\\n\".join(templates))"
   ]
  },
  {
   "cell_type": "code",
   "execution_count": 8,
   "metadata": {
    "pycharm": {
     "name": "#%%\n"
    }
   },
   "outputs": [
    {
     "name": "stdout",
     "output_type": "stream",
     "text": [
      "Text:\n",
      "Art particularly fall day. Relate not line although executive music. Service so perhaps drug account. Air consumer rock full speech letter memory. Move close husband statement.Our contact: West Sparta, Livingston County, New York, 14545, United States of America. Similar material forget blood painting senior sort. Institution fall wind company. Buy health require which. Space its create factor fly per.\n"
     ]
    }
   ],
   "source": [
    "print(f\"Text:\\n{get_sentence_text(iob_data[-2])}\")"
   ]
  },
  {
   "cell_type": "markdown",
   "metadata": {
    "pycharm": {
     "name": "#%% md\n"
    }
   },
   "source": [
    "Find tokens before and after a GPE\n"
   ]
  },
  {
   "cell_type": "code",
   "execution_count": 9,
   "metadata": {
    "pycharm": {
     "name": "#%%\n"
    }
   },
   "outputs": [],
   "source": [
    "# if missing, download:\n",
    "#spacy.cli.download(\"en_core_web_sm\")\n",
    "nlp = spacy.load(\"en_core_web_sm\")"
   ]
  },
  {
   "cell_type": "markdown",
   "metadata": {},
   "source": [
    "Create spaCy docs from data"
   ]
  },
  {
   "cell_type": "code",
   "execution_count": 10,
   "metadata": {
    "pycharm": {
     "name": "#%%\n"
    }
   },
   "outputs": [],
   "source": [
    "docs = []\n",
    "for sentence in iob_data:\n",
    "    words = [token[0][0] for token in sentence]\n",
    "    tags = [token[0][1] for token in sentence]\n",
    "    ents = [token[1] for token in sentence]\n",
    "\n",
    "    doc = Doc(vocab=nlp.vocab,words = words,tags=tags,ents=ents)\n",
    "    docs.append(doc)"
   ]
  },
  {
   "cell_type": "markdown",
   "metadata": {
    "pycharm": {
     "name": "#%% md\n"
    }
   },
   "source": [
    "Most common phrases before and after a GPE entity\n"
   ]
  },
  {
   "cell_type": "code",
   "execution_count": 11,
   "metadata": {
    "pycharm": {
     "name": "#%%\n"
    }
   },
   "outputs": [],
   "source": [
    "def get_neighbors(token: Token,\n",
    "                  window_size: int,\n",
    "                  entity_type:str=\"GPE\",\n",
    "                  before:bool=True,\n",
    "                  ignore_puncts:bool=True) -> List[Token]:\n",
    "    \"\"\"\n",
    "    Get neighboring tokens of a certain length\n",
    "    while ignoring puncts and tokens labeled as the same entity.\n",
    "    :return: List of tokens\n",
    "    \"\"\"\n",
    "    neighbors = []\n",
    "    i= -1 if before else 1\n",
    "    while len(neighbors) < window_size and (0 < token.i + i < len(token.doc)):\n",
    "        if not token.nbor(i).is_punct or not ignore_puncts:\n",
    "            if token.nbor(i).ent_type_ != entity_type:\n",
    "                neighbors.append(token.nbor(i))\n",
    "        i+=-1 if before else 1\n",
    "    return neighbors[::-1] if before else neighbors\n",
    "\n",
    "\n",
    "before = []\n",
    "after = []\n",
    "windows_size = 3\n",
    "for doc in docs:\n",
    "    for token in doc:\n",
    "        if token.ent_type_ == \"GPE\":\n",
    "            befores = get_neighbors(token,window_size=windows_size,before=True)\n",
    "            before.append(\" \".join([t.text for t in befores]))\n",
    "            afters = get_neighbors(token,window_size=windows_size,before=False)\n",
    "            after.append(\" \".join([t.text for t in afters]))"
   ]
  },
  {
   "cell_type": "code",
   "execution_count": 12,
   "metadata": {
    "pycharm": {
     "name": "#%%\n"
    }
   },
   "outputs": [
    {
     "data": {
      "text/plain": "[('of', 144),\n ('trading on the', 81),\n ('Nev. Miami Beach', 63),\n ('the', 58),\n ('the University of', 53),\n ('will include the', 52),\n ('million *U* from', 51),\n ('of Bank of', 50),\n (\"'s elections in\", 49),\n ('in', 45),\n ('vice president of', 40),\n ('In', 38),\n ('a', 36),\n (\"'s application *T*-1\", 36),\n ('than 15 of', 36),\n ('billion *U* in', 34),\n ('Louisiana', 34),\n ('countries including', 33),\n ('the withdrawal of', 31),\n ('as president of', 31),\n ('of sweaters from', 31),\n ('States of America', 31),\n ('closed higher in', 30),\n ('*-1 from the', 30),\n ('were Allied Stores', 30),\n ('concerns also worried', 29),\n ('Southeast Asian Nations', 28),\n ('investments in the', 28),\n ('of Tuesday in', 28),\n ('debate outside clear', 28)]"
     },
     "execution_count": 12,
     "metadata": {},
     "output_type": "execute_result"
    }
   ],
   "source": [
    "before = [befores for befores in before if befores != \"\"]\n",
    "Counter(before).most_common(n=30)"
   ]
  },
  {
   "cell_type": "code",
   "execution_count": 13,
   "metadata": {
    "pycharm": {
     "name": "#%%\n"
    }
   },
   "outputs": [
    {
     "data": {
      "text/plain": "[('Stock Exchange composite', 172),\n ('and', 125),\n ('$ 15,000 *U*', 78),\n ('*T*-1', 67),\n ('-RRB-', 64),\n ('San Francisco and', 63),\n ('said 0 it', 60),\n ('and as well', 52),\n ('shares closed yesterday', 39),\n ('Stock Exchange', 39),\n ('dropped the lawsuit', 36),\n ('may care more', 35),\n ('contributed to this', 34),\n ('and educators say', 34),\n ('$ 30,000 *U*', 34),\n ('Stock Exchange yesterday', 34),\n ('and are still', 33),\n ('and a principal', 33),\n (\"Stock Exchange 's\", 33),\n (\"district attorney 's\", 33),\n ('investments in the', 31),\n ('and may be', 31),\n ('Gillett Holdings SCI', 30),\n ('the Philippines and', 28),\n ('says 0 it', 28),\n ('said `` I', 28),\n ('of an acute', 28),\n ('Write drug where', 28),\n ('from', 27),\n ('market', 27)]"
     },
     "execution_count": 13,
     "metadata": {},
     "output_type": "execute_result"
    }
   ],
   "source": [
    "after = [afters for afters in after if afters != \"\"]\n",
    "Counter(after).most_common(n=30)"
   ]
  },
  {
   "cell_type": "markdown",
   "metadata": {
    "pycharm": {
     "name": "#%% md\n"
    }
   },
   "source": [
    "POS analysis (WIP)"
   ]
  },
  {
   "cell_type": "code",
   "execution_count": 14,
   "metadata": {
    "pycharm": {
     "name": "#%%\n"
    }
   },
   "outputs": [],
   "source": [
    "# WIP\n",
    "entity_pos = []\n",
    "non_entity_pos = []\n",
    "before_entity_pos = []\n",
    "for sentence in docs:\n",
    "    entity_pos_values = [token.tag_ for token in sentence if token.ent_type_ != \"O\"]\n",
    "    non_entity_pos_value = [token.tag_ for token in sentence if token.ent_type_ == \"\"]\n",
    "    entity_pos.extend(entity_pos_values)\n",
    "    non_entity_pos.extend(non_entity_pos_value)"
   ]
  },
  {
   "cell_type": "code",
   "execution_count": 15,
   "metadata": {
    "pycharm": {
     "name": "#%%\n"
    }
   },
   "outputs": [
    {
     "name": "stdout",
     "output_type": "stream",
     "text": [
      "Common POS values within the GPE entity:\n"
     ]
    },
    {
     "data": {
      "text/plain": "[('NN', 116234),\n ('NNP', 75390),\n ('.', 49995),\n ('JJ', 48407),\n ('IN', 22627),\n ('CD', 22412),\n ('RB', 18551),\n (',', 14044),\n ('DT', 11626),\n ('VB', 9906)]"
     },
     "execution_count": 15,
     "metadata": {},
     "output_type": "execute_result"
    }
   ],
   "source": [
    "print(\"Common POS values within the GPE entity:\")\n",
    "Counter(entity_pos).most_common(10)"
   ]
  },
  {
   "cell_type": "code",
   "execution_count": 16,
   "metadata": {
    "pycharm": {
     "name": "#%%\n"
    }
   },
   "outputs": [
    {
     "name": "stdout",
     "output_type": "stream",
     "text": [
      "Common POS values within non-GPE tokens:\n"
     ]
    },
    {
     "data": {
      "text/plain": "[('NN', 116183),\n ('.', 48665),\n ('JJ', 47300),\n ('NNP', 37006),\n ('IN', 21927),\n ('RB', 18538),\n ('DT', 11602),\n ('VB', 9904),\n ('VBP', 9384),\n ('NNS', 7520)]"
     },
     "execution_count": 16,
     "metadata": {},
     "output_type": "execute_result"
    }
   ],
   "source": [
    "print(\"Common POS values within non-GPE tokens:\")\n",
    "Counter(non_entity_pos).most_common(10)"
   ]
  },
  {
   "cell_type": "code",
   "execution_count": 17,
   "outputs": [
    {
     "data": {
      "text/plain": "Of black movie food through . Mind around work out pretty Los Angeles County , California , United States of America . Standard much mind . Service nature family feel . Official month suggest suddenly development simply . "
     },
     "execution_count": 17,
     "metadata": {},
     "output_type": "execute_result"
    }
   ],
   "source": [
    "doc"
   ],
   "metadata": {
    "collapsed": false,
    "pycharm": {
     "name": "#%%\n"
    }
   }
  },
  {
   "cell_type": "code",
   "execution_count": 18,
   "outputs": [],
   "source": [
    "pos_one_before = []\n",
    "pos_two_before = []\n",
    "pos_one_after = []\n",
    "pos_two_after = []\n",
    "\n",
    "for doc in docs:\n",
    "    for ent in doc.ents:\n",
    "        start = ent.start\n",
    "        end = ent.end\n",
    "        pos_one_before.append(doc[start-1].tag_ if start - 1 > 0 else None)\n",
    "        pos_two_before.append(doc[start-2].tag_ if start - 2 > 0 else None)\n",
    "\n",
    "        pos_one_after.append(doc[end+1].tag_ if end + 1 < len(doc) else None)\n",
    "        pos_two_after.append(doc[end+2].tag_ if end + 2 < len(doc) else None)\n"
   ],
   "metadata": {
    "collapsed": false,
    "pycharm": {
     "name": "#%%\n"
    }
   }
  },
  {
   "cell_type": "code",
   "execution_count": 68,
   "outputs": [],
   "source": [
    "def plot_counter_histogram(counter: Union[Counter,List], title=\"\"):\n",
    "    if isinstance(counter,List):\n",
    "        counter = Counter(counter)\n",
    "\n",
    "    del counter[None]\n",
    "    for punct in string.punctuation:\n",
    "        del counter[punct]\n",
    "    plt.figure(figsize=(10,5))\n",
    "    plt.bar(counter.keys(), counter.values())\n",
    "    plt.xticks(rotation=90)\n",
    "    plt.title(title)\n",
    "    return plt"
   ],
   "metadata": {
    "collapsed": false,
    "pycharm": {
     "name": "#%%\n"
    }
   }
  },
  {
   "cell_type": "code",
   "execution_count": 70,
   "outputs": [
    {
     "data": {
      "text/plain": "<module 'matplotlib.pyplot' from 'C:\\\\Users\\\\ommendel\\\\.conda\\\\envs\\\\address\\\\lib\\\\site-packages\\\\matplotlib\\\\pyplot.py'>"
     },
     "execution_count": 70,
     "metadata": {},
     "output_type": "execute_result"
    },
    {
     "data": {
      "text/plain": "<Figure size 720x360 with 1 Axes>",
      "image/png": "[encoded data removed]"
     },
     "metadata": {
      "needs_background": "light"
     },
     "output_type": "display_data"
    },
    {
     "data": {
      "text/plain": "<Figure size 720x360 with 1 Axes>",
      "image/png": "[encoded data removed]"
     },
     "metadata": {
      "needs_background": "light"
     },
     "output_type": "display_data"
    },
    {
     "data": {
      "text/plain": "<Figure size 720x360 with 1 Axes>",
      "image/png": "[encoded data removed]"
     },
     "metadata": {
      "needs_background": "light"
     },
     "output_type": "display_data"
    },
    {
     "data": {
      "text/plain": "<Figure size 720x360 with 1 Axes>",
      "image/png": "[encoded data removed]"
     },
     "metadata": {
      "needs_background": "light"
     },
     "output_type": "display_data"
    },
    {
     "data": {
      "text/plain": "<Figure size 720x360 with 1 Axes>",
      "image/png": "[encoded data removed]"
     },
     "metadata": {
      "needs_background": "light"
     },
     "output_type": "display_data"
    }
   ],
   "source": [
    "plot_counter_histogram(pos_one_before, \"POS prev token\")\n",
    "plot_counter_histogram(pos_two_before, \"POS 2nd prev token\")\n",
    "plot_counter_histogram(pos_one_after, \"POS after token\")\n",
    "plot_counter_histogram(pos_two_after, \"POS 2nd after token\")\n",
    "plot_counter_histogram(non_entity_pos, \"non-entity POS\")\n",
    "\n"
   ],
   "metadata": {
    "collapsed": false,
    "pycharm": {
     "name": "#%%\n"
    }
   }
  },
  {
   "cell_type": "code",
   "execution_count": null,
   "outputs": [],
   "source": [],
   "metadata": {
    "collapsed": false,
    "pycharm": {
     "name": "#%%\n"
    }
   }
  }
 ],
 "metadata": {
  "kernelspec": {
   "name": "address",
   "language": "python",
   "display_name": "address"
  },
  "language_info": {
   "codemirror_mode": {
    "name": "ipython",
    "version": 3
   },
   "file_extension": ".py",
   "mimetype": "text/x-python",
   "name": "python",
   "nbconvert_exporter": "python",
   "pygments_lexer": "ipython3",
   "version": "3.7.9"
  }
 },
 "nbformat": 4,
 "nbformat_minor": 1
}