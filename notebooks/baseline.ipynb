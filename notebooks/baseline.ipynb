{
 "cells": [
  {
   "cell_type": "markdown",
   "source": [
    "# Baslines\n",
    "* CRF (conditional Random Field)\n",
    "* spacy (Evaluate with existing Spacy model)"
   ],
   "metadata": {}
  },
  {
   "cell_type": "markdown",
   "source": [
    "## CRF"
   ],
   "metadata": {}
  },
  {
   "cell_type": "code",
   "execution_count": 1,
   "source": [
    "import random\n",
    "from collections import Counter\n",
    "\n",
    "from presidio_evaluator.data_generator import read_synth_dataset\n",
    "from presidio_evaluator import InputSample\n",
    "from presidio_evaluator.models.crf_model import CRFModel\n",
    "\n",
    "import sklearn_crfsuite\n",
    "from sklearn_crfsuite import metrics\n",
    "\n",
    "all_samples = read_synth_dataset(\"../../presidio-research/data/generated_address_size_2000_date_October_27_2021.json\")\n",
    "all_samples = [sample for sample in all_samples if len(sample.spans) > 0]\n",
    "print(\"Kept {} samples after removal of non-tagged samples\".format(len(all_samples)))\n",
    "\n",
    "random.shuffle(all_samples)\n",
    "\n",
    "train_len = int(len(all_samples)* 0.80)\n",
    "train_data = all_samples[:train_len]\n",
    "test_data = all_samples[train_len:]\n",
    "\n",
    "train_data = InputSample.create_conll_dataset(train_data, to_bio=False)\n",
    "test_data = InputSample.create_conll_dataset(test_data, to_bio=False)\n",
    "\n",
    "test_data.head()"
   ],
   "outputs": [
    {
     "output_type": "stream",
     "name": "stdout",
     "text": [
      "Flair is not installed by default\n",
      "Flair is not installed\n",
      "Kept 2000 samples after removal of non-tagged samples\n"
     ]
    },
    {
     "output_type": "execute_result",
     "data": {
      "text/html": [
       "<div>\n",
       "<style scoped>\n",
       "    .dataframe tbody tr th:only-of-type {\n",
       "        vertical-align: middle;\n",
       "    }\n",
       "\n",
       "    .dataframe tbody tr th {\n",
       "        vertical-align: top;\n",
       "    }\n",
       "\n",
       "    .dataframe thead th {\n",
       "        text-align: right;\n",
       "    }\n",
       "</style>\n",
       "<table border=\"1\" class=\"dataframe\">\n",
       "  <thead>\n",
       "    <tr style=\"text-align: right;\">\n",
       "      <th></th>\n",
       "      <th>text</th>\n",
       "      <th>pos</th>\n",
       "      <th>tag</th>\n",
       "      <th>label</th>\n",
       "      <th>sentence</th>\n",
       "    </tr>\n",
       "  </thead>\n",
       "  <tbody>\n",
       "    <tr>\n",
       "      <th>0</th>\n",
       "      <td>*</td>\n",
       "      <td>PUNCT</td>\n",
       "      <td>NFP</td>\n",
       "      <td>O</td>\n",
       "      <td>0</td>\n",
       "    </tr>\n",
       "    <tr>\n",
       "      <th>1</th>\n",
       "      <td>Asia</td>\n",
       "      <td>PROPN</td>\n",
       "      <td>NNP</td>\n",
       "      <td>O</td>\n",
       "      <td>0</td>\n",
       "    </tr>\n",
       "    <tr>\n",
       "      <th>2</th>\n",
       "      <td>Pacific</td>\n",
       "      <td>PROPN</td>\n",
       "      <td>NNP</td>\n",
       "      <td>O</td>\n",
       "      <td>0</td>\n",
       "    </tr>\n",
       "    <tr>\n",
       "      <th>3</th>\n",
       "      <td>Energy</td>\n",
       "      <td>PROPN</td>\n",
       "      <td>NNP</td>\n",
       "      <td>O</td>\n",
       "      <td>0</td>\n",
       "    </tr>\n",
       "    <tr>\n",
       "      <th>4</th>\n",
       "      <td>-</td>\n",
       "      <td>PUNCT</td>\n",
       "      <td>HYPH</td>\n",
       "      <td>O</td>\n",
       "      <td>0</td>\n",
       "    </tr>\n",
       "  </tbody>\n",
       "</table>\n",
       "</div>"
      ],
      "text/plain": [
       "      text    pos   tag label  sentence\n",
       "0        *  PUNCT   NFP     O         0\n",
       "1     Asia  PROPN   NNP     O         0\n",
       "2  Pacific  PROPN   NNP     O         0\n",
       "3   Energy  PROPN   NNP     O         0\n",
       "4        -  PUNCT  HYPH     O         0"
      ]
     },
     "metadata": {},
     "execution_count": 1
    }
   ],
   "metadata": {}
  },
  {
   "cell_type": "code",
   "execution_count": 2,
   "source": [
    "# Turn every sentence into a list of lists (list of tokens + pos + label)\n",
    "test_sents=test_data.groupby('sentence')[['text','pos','label']].apply(lambda x: x.values.tolist())\n",
    "train_sents=train_data.groupby('sentence')[['text','pos','label']].apply(lambda x: x.values.tolist())"
   ],
   "outputs": [],
   "metadata": {}
  },
  {
   "cell_type": "code",
   "execution_count": 3,
   "source": [
    "CRFModel.sent2features(train_sents[0])[0]"
   ],
   "outputs": [
    {
     "output_type": "execute_result",
     "data": {
      "text/plain": [
       "{'bias': 1.0,\n",
       " 'word.lower()': 'let',\n",
       " 'word[-3:]': 'Let',\n",
       " 'word[-2:]': 'et',\n",
       " 'word.isupper()': False,\n",
       " 'word.istitle()': True,\n",
       " 'word.isdigit()': False,\n",
       " 'postag': 'VERB',\n",
       " 'postag[:2]': 'VE',\n",
       " 'BOS': True,\n",
       " '+1:word.lower()': \"'s\",\n",
       " '+1:word.istitle()': False,\n",
       " '+1:word.isupper()': False,\n",
       " '+1:postag': 'PRON',\n",
       " '+1:postag[:2]': 'PR'}"
      ]
     },
     "metadata": {},
     "execution_count": 3
    }
   ],
   "metadata": {}
  },
  {
   "cell_type": "code",
   "execution_count": 4,
   "source": [
    "%time\n",
    "X_train = [CRFModel.sent2features(s) for s in train_sents]\n",
    "y_train = [CRFModel.sent2labels(s) for s in train_sents]\n",
    "\n",
    "X_test = [CRFModel.sent2features(s) for s in test_sents]\n",
    "y_test = [CRFModel.sent2labels(s) for s in test_sents]"
   ],
   "outputs": [
    {
     "output_type": "stream",
     "name": "stdout",
     "text": [
      "CPU times: user 2 µs, sys: 0 ns, total: 2 µs\n",
      "Wall time: 5.01 µs\n"
     ]
    }
   ],
   "metadata": {}
  },
  {
   "cell_type": "code",
   "execution_count": 5,
   "source": [
    "%%time\n",
    "crf = sklearn_crfsuite.CRF(\n",
    "    algorithm='lbfgs',\n",
    "    c1=0.1,\n",
    "    c2=0.1,\n",
    "    max_iterations=100,\n",
    "    all_possible_transitions=True\n",
    ")\n",
    "crf.fit(X_train, y_train)"
   ],
   "outputs": [
    {
     "output_type": "stream",
     "name": "stdout",
     "text": [
      "CPU times: user 8.72 s, sys: 30.4 ms, total: 8.75 s\n",
      "Wall time: 8.75 s\n"
     ]
    },
    {
     "output_type": "stream",
     "name": "stderr",
     "text": [
      "/home/fatemeh.rahimi/.virtualenvs/address/lib/python3.8/site-packages/sklearn/base.py:209: FutureWarning: From version 0.24, get_params will raise an AttributeError if a parameter cannot be retrieved as an instance attribute. Previously it would return None.\n",
      "  warnings.warn('From version 0.24, get_params will raise an '\n"
     ]
    },
    {
     "output_type": "execute_result",
     "data": {
      "text/plain": [
       "CRF(algorithm='lbfgs', all_possible_transitions=True, c1=0.1, c2=0.1,\n",
       "    keep_tempfiles=None, max_iterations=100)"
      ]
     },
     "metadata": {},
     "execution_count": 5
    }
   ],
   "metadata": {}
  },
  {
   "cell_type": "code",
   "execution_count": 6,
   "source": [
    "import pickle\n",
    "with open(\"../model_weights/crf.pickle\",'wb') as f:\n",
    "    pickle.dump(crf, f,protocol=pickle.HIGHEST_PROTOCOL)"
   ],
   "outputs": [],
   "metadata": {}
  },
  {
   "cell_type": "code",
   "execution_count": 7,
   "source": [
    "with open(\"../model_weights/crf.pickle\", 'rb') as f:\n",
    "    crf = pickle.load(f)"
   ],
   "outputs": [],
   "metadata": {}
  },
  {
   "cell_type": "code",
   "execution_count": 20,
   "source": [
    "labels = list(crf.classes_)\n",
    "# labels.remove('O')\n",
    "labels"
   ],
   "outputs": [
    {
     "output_type": "execute_result",
     "data": {
      "text/plain": [
       "['O', 'B-GPE', 'I-GPE', 'L-GPE', 'U-GPE']"
      ]
     },
     "metadata": {},
     "execution_count": 20
    }
   ],
   "metadata": {}
  },
  {
   "cell_type": "code",
   "execution_count": 21,
   "source": [
    "y_pred = crf.predict(X_test)\n",
    "metrics.flat_f1_score(y_test, y_pred,\n",
    "                      average='weighted', labels=labels)"
   ],
   "outputs": [
    {
     "output_type": "execute_result",
     "data": {
      "text/plain": [
       "0.992169451864869"
      ]
     },
     "metadata": {},
     "execution_count": 21
    }
   ],
   "metadata": {}
  },
  {
   "cell_type": "code",
   "execution_count": 22,
   "source": [
    "y_5_pred = crf.predict([X_test[5]])\n",
    "# y_5_pred[0]"
   ],
   "outputs": [],
   "metadata": {}
  },
  {
   "cell_type": "code",
   "execution_count": 23,
   "source": [
    "sorted_labels = sorted(\n",
    "    labels,\n",
    "    key=lambda name: (name[1:], name[0])\n",
    ")\n",
    "print(metrics.flat_classification_report(\n",
    "    y_test, y_pred, labels=sorted_labels, digits=3\n",
    "))"
   ],
   "outputs": [
    {
     "output_type": "stream",
     "name": "stdout",
     "text": [
      "              precision    recall  f1-score   support\n",
      "\n",
      "           O      0.993     0.998     0.996     25032\n",
      "       B-GPE      0.976     0.942     0.959       482\n",
      "       I-GPE      0.990     0.969     0.979      3707\n",
      "       L-GPE      0.963     0.929     0.946       482\n",
      "       U-GPE      1.000     0.400     0.571        10\n",
      "\n",
      "    accuracy                          0.992     29713\n",
      "   macro avg      0.985     0.848     0.890     29713\n",
      "weighted avg      0.992     0.992     0.992     29713\n",
      "\n"
     ]
    },
    {
     "output_type": "stream",
     "name": "stderr",
     "text": [
      "/home/fatemeh.rahimi/.virtualenvs/address/lib/python3.8/site-packages/sklearn/utils/validation.py:67: FutureWarning: Pass labels=['O', 'B-GPE', 'I-GPE', 'L-GPE', 'U-GPE'] as keyword args. From version 0.25 passing these as positional arguments will result in an error\n",
      "  warnings.warn(\"Pass {} as keyword args. From version 0.25 \"\n"
     ]
    }
   ],
   "metadata": {}
  },
  {
   "cell_type": "markdown",
   "source": [
    "## Evaluate an existing spaCy trained model\n",
    "* Using [this noteboook](https://github.com/microsoft/presidio-research/blob/master/notebooks/models/Evaluate%20spacy%20models.ipynb)"
   ],
   "metadata": {}
  },
  {
   "cell_type": "code",
   "execution_count": 12,
   "source": [
    "import spacy\n",
    "\n",
    "from collections import Counter\n",
    "\n",
    "from presidio_evaluator.models import SpacyModel\n",
    "\n",
    "from presidio_evaluator.evaluation import Evaluator, ModelError\n",
    "from presidio_evaluator.data_generator import read_synth_dataset\n",
    "%reload_ext autoreload\n",
    "%autoreload 2\n",
    "\n",
    "synth_samples = read_synth_dataset(\"../../presidio-research/data/generated_address_size_2000_date_October_27_2021.json\")\n",
    "print(len(synth_samples))\n",
    "DATASET = synth_samples"
   ],
   "outputs": [
    {
     "output_type": "stream",
     "name": "stdout",
     "text": [
      "2000\n"
     ]
    }
   ],
   "metadata": {}
  },
  {
   "cell_type": "code",
   "execution_count": 13,
   "source": [
    "entity_counter = Counter()\n",
    "for sample in DATASET:\n",
    "    for span in sample.spans:\n",
    "        entity_counter[span.entity_type]+=1"
   ],
   "outputs": [],
   "metadata": {}
  },
  {
   "cell_type": "code",
   "execution_count": 14,
   "source": [
    "entity_counter"
   ],
   "outputs": [
    {
     "output_type": "execute_result",
     "data": {
      "text/plain": [
       "Counter({'LOCATION': 2532})"
      ]
     },
     "metadata": {},
     "execution_count": 14
    }
   ],
   "metadata": {}
  },
  {
   "cell_type": "code",
   "execution_count": 15,
   "source": [
    "DATASET[1]"
   ],
   "outputs": [
    {
     "output_type": "execute_result",
     "data": {
      "text/plain": [
       "Full text: Key Corporate Statistics\n",
       "\n",
       "Headquarters    \n",
       "Hwy 42 and I-40\n",
       "(918) 266-3060\n",
       "www.gearainey.com <http://www.gearainey.com/>\n",
       "Locations\n",
       "Spans: [Type: LOCATION, value: Hwy 42 and I-40, start: 43, end: 58]\n",
       "Tokens: [Key, Corporate, Statistics, \n",
       "\n",
       ", Headquarters,    \n",
       ", Hwy, 42, and, I-40, \n",
       ", (, 918, ), 266, -, 3060, \n",
       ", www.gearainey.com, <, http://www.gearainey.com/, >, \n",
       ", Locations]\n",
       "Tags: ['O', 'O', 'O', 'O', 'O', 'O', 'B-LOCATION', 'I-LOCATION', 'I-LOCATION', 'L-LOCATION', 'O', 'O', 'O', 'O', 'O', 'O', 'O', 'O', 'O', 'O', 'O', 'O', 'O', 'O']"
      ]
     },
     "metadata": {},
     "execution_count": 15
    }
   ],
   "metadata": {}
  },
  {
   "cell_type": "code",
   "execution_count": 16,
   "source": [
    "#max length sentence\n",
    "max([len(sample.tokens) for sample in DATASET])"
   ],
   "outputs": [
    {
     "output_type": "execute_result",
     "data": {
      "text/plain": [
       "334"
      ]
     },
     "metadata": {},
     "execution_count": 16
    }
   ],
   "metadata": {}
  },
  {
   "cell_type": "code",
   "execution_count": 17,
   "source": [
    "models = [\n",
    "    \"en_core_web_lg\", \n",
    "    # \"en_core_web_trf\",\n",
    "    ]"
   ],
   "outputs": [],
   "metadata": {}
  },
  {
   "cell_type": "code",
   "execution_count": 19,
   "source": [
    "for model in models:\n",
    "    print(\"-----------------------------------\")\n",
    "    print(\"Evaluating model {}\".format(model))\n",
    "    nlp = spacy.load(model)\n",
    "    spacy_model = SpacyModel(model=nlp,entities_to_keep=['GPE'])\n",
    "    evaluator = Evaluator(model=spacy_model)\n",
    "    evaluation_results = evaluator.evaluate_all(DATASET)\n",
    "    scores = evaluator.calculate_score(evaluation_results)\n",
    "    \n",
    "    print(\"Confusion matrix:\")\n",
    "    print(scores.results)\n",
    "\n",
    "    print(\"Precision and recall\")\n",
    "    scores.print()\n",
    "    errors = scores.model_errors"
   ],
   "outputs": [
    {
     "output_type": "stream",
     "name": "stdout",
     "text": [
      "-----------------------------------\n",
      "Evaluating model en_core_web_lg\n"
     ]
    },
    {
     "output_type": "stream",
     "name": "stderr",
     "text": [
      "Evaluating <class 'presidio_evaluator.evaluation.evaluator.Evaluator'>:   0%|          | 10/2000 [00:00<00:21, 93.01it/s]"
     ]
    },
    {
     "output_type": "stream",
     "name": "stdout",
     "text": [
      "Translating entites using this dictionary: {'ORGANIZATION': 'ORG', 'COUNTRY': 'GPE', 'CITY': 'GPE', 'LOCATION': 'GPE', 'PERSON': 'PERSON', 'FIRST_NAME': 'PERSON', 'LAST_NAME': 'PERSON', 'NATION_MAN': 'GPE', 'NATION_WOMAN': 'GPE', 'NATION_PLURAL': 'GPE', 'NATIONALITY': 'GPE', 'GPE': 'GPE', 'ORG': 'ORG'}\n"
     ]
    },
    {
     "output_type": "stream",
     "name": "stderr",
     "text": [
      "Evaluating <class 'presidio_evaluator.evaluation.evaluator.Evaluator'>: 100%|██████████| 2000/2000 [00:22<00:00, 89.46it/s]"
     ]
    },
    {
     "output_type": "stream",
     "name": "stdout",
     "text": [
      "Confusion matrix:\n",
      "Counter({('O', 'O'): 121491, ('GPE', 'O'): 21004, ('GPE', 'GPE'): 3118, ('O', 'GPE'): 983})\n",
      "Precision and recall\n",
      "                        Entity                     Precision                        Recall\n",
      "                           GPE                        76.03%                        12.93%\n",
      "                           PII                        76.03%                        12.93%\n",
      "PII F measure: 0.1459704836840185\n"
     ]
    },
    {
     "output_type": "stream",
     "name": "stderr",
     "text": [
      "\n"
     ]
    }
   ],
   "metadata": {}
  },
  {
   "cell_type": "code",
   "execution_count": null,
   "source": [],
   "outputs": [],
   "metadata": {}
  }
 ],
 "metadata": {
  "orig_nbformat": 4,
  "language_info": {
   "name": "python",
   "version": "3.8.10",
   "mimetype": "text/x-python",
   "codemirror_mode": {
    "name": "ipython",
    "version": 3
   },
   "pygments_lexer": "ipython3",
   "nbconvert_exporter": "python",
   "file_extension": ".py"
  },
  "kernelspec": {
   "name": "python3",
   "display_name": "Python 3.8.10 64-bit ('address': virtualenv)"
  },
  "interpreter": {
   "hash": "44acb1839da533283325c49d8a2ac7bf01c05426dc88dc963dbf3f573e808931"
  }
 },
 "nbformat": 4,
 "nbformat_minor": 2
}